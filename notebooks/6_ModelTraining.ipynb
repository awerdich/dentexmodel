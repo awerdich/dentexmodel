{
 "cells": [
  {
   "cell_type": "markdown",
   "id": "ebc52caa-e5ff-42ad-9bb6-84891f453249",
   "metadata": {},
   "source": [
    "## Notebook 6: The Lightning Model Class ##\n",
    "This trains a ResNet 50 model with pretrained weights. The model \"toothmodel1\" contains the bare minimum code to train an image classification model. No metrics or checkpoints are saved in this one."
   ]
  },
  {
   "cell_type": "code",
   "execution_count": 3,
   "id": "146bbe69-a3c4-430d-a5f8-74fa54188d44",
   "metadata": {},
   "outputs": [
    {
     "data": {
      "text/html": [
       "<style>.container { width:100% !important; }</style>"
      ],
      "text/plain": [
       "<IPython.core.display.HTML object>"
      ]
     },
     "metadata": {},
     "output_type": "display_data"
    },
    {
     "name": "stdout",
     "output_type": "stream",
     "text": [
      "The autoreload extension is already loaded. To reload it, use:\n",
      "  %reload_ext autoreload\n",
      "dentexmodel package version:  0.0.post1.dev36+gb44e647.d20240101\n"
     ]
    }
   ],
   "source": [
    "# Imports\n",
    "import os\n",
    "from pathlib import Path\n",
    "import numpy as np\n",
    "import pandas as pd\n",
    "import cv2\n",
    "import glob\n",
    "\n",
    "# Matplotlib for plotting\n",
    "from matplotlib import pyplot as plt\n",
    "from matplotlib.pyplot import cm\n",
    "\n",
    "# PyTorch packages\n",
    "import torch\n",
    "import torch.nn as nn\n",
    "import lightning.pytorch as pl\n",
    "from lightning.pytorch import Trainer\n",
    "\n",
    "# Albumentations library\n",
    "import albumentations as alb\n",
    "\n",
    "# Appearance of the Notebook\n",
    "from IPython.display import display, HTML\n",
    "display(HTML(\"<style>.container { width:100% !important; }</style>\"))\n",
    "np.set_printoptions(linewidth=110)\n",
    "pd.set_option('display.max_rows', 500)\n",
    "pd.set_option('display.max_columns', 100)\n",
    "pd.set_option('display.width', 1000)\n",
    "\n",
    "# Import this module with autoreload\n",
    "%load_ext autoreload\n",
    "%autoreload 2\n",
    "import dentexmodel as dm\n",
    "from dentexmodel.imageproc import ImageData\n",
    "from dentexmodel.torchdataset import DatasetFromDF, load_and_process_image\n",
    "print(f'dentexmodel package version:  {dm.__version__}')"
   ]
  },
  {
   "cell_type": "code",
   "execution_count": 4,
   "id": "fb742ac6-b8be-4342-97cc-b91acf1e3805",
   "metadata": {},
   "outputs": [],
   "source": [
    "# Path settings \n",
    "dentex_dir = os.path.join(os.environ['HOME'], 'data', 'dentex')\n",
    "data_dir = os.path.join(dentex_dir, 'dentex_disease')\n",
    "image_dir = os.path.join(data_dir, 'quadrant-enumeration-disease', 'xrays', 'crop')\n",
    "data_file_name = 'dentex_disease_datasplit.parquet'\n",
    "data_file = os.path.join(dentex_dir, data_file_name)"
   ]
  },
  {
   "cell_type": "code",
   "execution_count": 5,
   "id": "bac1fb7a-5c4b-48e9-b964-77bca51834b3",
   "metadata": {},
   "outputs": [
    {
     "name": "stdout",
     "output_type": "stream",
     "text": [
      "PyTorch version:              2.1.2+cu121\n",
      "PyTorch Lightning version:    2.1.3\n",
      "True\n",
      "Number of GPUs found:  1\n",
      "Current device ID:     0\n",
      "GPU device name:       NVIDIA GeForce RTX 3060 Laptop GPU\n",
      "CUDNN version:         8902\n"
     ]
    }
   ],
   "source": [
    "# %% Package and GPU checks\n",
    "print(f'PyTorch version:              {torch.__version__}')\n",
    "print(f'PyTorch Lightning version:    {pl.__version__}')\n",
    "device = torch.device(\"cuda:0\") if torch.cuda.is_available() else torch.device(\"cpu\")\n",
    "print(torch.cuda.is_available())\n",
    "print(f'Number of GPUs found:  {torch.cuda.device_count()}')\n",
    "print(f'Current device ID:     {torch.cuda.current_device()}')\n",
    "print(f'GPU device name:       {torch.cuda.get_device_name(0)}')\n",
    "print(f'CUDNN version:         {torch.backends.cudnn.version()}')\n",
    "torch.set_float32_matmul_precision(precision='high')"
   ]
  },
  {
   "cell_type": "markdown",
   "id": "d7358557-53d8-4d69-b694-55c406c0f47f",
   "metadata": {},
   "source": [
    "### Create PyTorch datasets from data frame ###"
   ]
  },
  {
   "cell_type": "code",
   "execution_count": 6,
   "id": "64692d68-33f9-4a65-a937-6fa485594f55",
   "metadata": {},
   "outputs": [
    {
     "data": {
      "text/plain": [
       "Caries               0\n",
       "Deep Caries          1\n",
       "Impacted             2\n",
       "Periapical Lesion    3\n",
       "Name: 0, dtype: int64"
      ]
     },
     "metadata": {},
     "output_type": "display_data"
    }
   ],
   "source": [
    "data_df = pd.read_parquet(data_file)\n",
    "# Convert class names to labels\n",
    "cl_names = sorted(list(data_df['label'].unique()))\n",
    "# Let's assign number to the classes\n",
    "label_dict = dict(zip(cl_names, range(len(cl_names))))\n",
    "cl_dict = dict(zip(label_dict.values(), label_dict.keys()))\n",
    "\n",
    "# Add the class labels to the data frame\n",
    "seed = np.random.seed(123)\n",
    "data_df = data_df.\\\n",
    "                assign(cl=data_df['label'].apply(lambda l: label_dict.get(l))).\\\n",
    "                sample(frac=1, random_state=seed).\\\n",
    "                reset_index(drop=True)\n",
    "\n",
    "# Show the class labels\n",
    "display(pd.DataFrame(label_dict, index=[0]).iloc[0])\n",
    "\n",
    "# Save the data frame with the class labels\n",
    "data_file_name_cl = 'dentex_disease_datasplit_cl.parquet'\n",
    "data_file = os.path.join(dentex_dir, data_file_name_cl)\n",
    "data_df.to_parquet(data_file)"
   ]
  },
  {
   "cell_type": "code",
   "execution_count": 7,
   "id": "c0af688f-9c27-4227-8374-06643a7c49a5",
   "metadata": {},
   "outputs": [
    {
     "name": "stdout",
     "output_type": "stream",
     "text": [
      "Found 3349 samples in the training set.\n",
      "Found 60 samples in the validation set.\n",
      "Found 120 samples in the test set.\n",
      "\n"
     ]
    }
   ],
   "source": [
    "# Select the samples for training, validation and testing from our data frame\n",
    "train_df = data_df.loc[data_df['dataset']=='train']\n",
    "val_df = data_df.loc[data_df['dataset']=='val']\n",
    "test_df = data_df.loc[data_df['dataset']=='test']\n",
    "\n",
    "train_samples = sorted(list(train_df['box_name'].unique()))\n",
    "print(f'Found {len(train_samples)} samples in the training set.')\n",
    "val_samples = sorted(list(val_df['box_name'].unique()))\n",
    "print(f'Found {len(val_samples)} samples in the validation set.')\n",
    "test_samples = sorted(list(test_df['box_name'].unique()))\n",
    "print(f'Found {len(test_samples)} samples in the test set.')\n",
    "print()"
   ]
  },
  {
   "cell_type": "code",
   "execution_count": 8,
   "id": "b366254d-a33b-4779-855a-48242cf1f6cc",
   "metadata": {},
   "outputs": [],
   "source": [
    "# Augmentations\n",
    "# Image augmentations is part of the PyTorch dataset\n",
    "\n",
    "# The output of this transformation must match the required input size for the model\n",
    "max_image_size = 550\n",
    "im_size = 224\n",
    "\n",
    "# Definition of the image augmentations for the training set\n",
    "train_transform = alb.Compose([\n",
    "    alb.Resize(im_size + 32, im_size + 32),\n",
    "    alb.RandomCrop(im_size, im_size),\n",
    "    alb.HorizontalFlip(),\n",
    "    alb.ShiftScaleRotate(),\n",
    "    alb.Blur(),\n",
    "    alb.RandomGamma(),\n",
    "    alb.Sharpen(),\n",
    "    alb.GaussNoise(),\n",
    "    alb.CoarseDropout(16, 32, 32),\n",
    "    alb.CLAHE(),\n",
    "    alb.Normalize(mean=ImageData().image_net_mean, \n",
    "                  std=ImageData().image_net_std)])\n",
    "\n",
    "# Vor validation and testing, we do not want any augmentations\n",
    "# but we will still need the correct input size and image normalization\n",
    "val_transform = alb.Compose([\n",
    "    alb.Resize(im_size, im_size),\n",
    "    alb.Normalize(mean=ImageData().image_net_mean, \n",
    "                  std=ImageData().image_net_std)])"
   ]
  },
  {
   "cell_type": "code",
   "execution_count": 9,
   "id": "5edc6ffb-c54a-41ab-b899-20190b777ea8",
   "metadata": {},
   "outputs": [],
   "source": [
    "# Create the data sets from the data frame\n",
    "train_dataset = DatasetFromDF(data=train_df,\n",
    "                              file_col='box_file',\n",
    "                              label_col='cl',\n",
    "                              max_image_size=max_image_size,\n",
    "                              transform=train_transform,\n",
    "                              validate=True)\n",
    "\n",
    "test_dataset = DatasetFromDF(data=test_df,\n",
    "                             file_col='box_file',\n",
    "                             label_col='cl',\n",
    "                             max_image_size=max_image_size,\n",
    "                             transform=val_transform,\n",
    "                             validate=True)"
   ]
  },
  {
   "cell_type": "markdown",
   "id": "1a2bc348-585b-4b12-a0ca-5c419ce4fb87",
   "metadata": {},
   "source": [
    "### The image model with pre-trained weights ###\n",
    "The torchvision.models subpackage contains definitions of models for addressing different tasks, including: image classification, pixelwise semantic segmentation, object detection, instance segmentation, person keypoint detection, video classification, and optical flow.\n",
    "\n",
    "TorchVision offers pre-trained weights for every provided architecture, using the PyTorch torch.hub. Instancing a pre-trained model will download its weights to a cache directory. This directory can be set using the TORCH_HOME environment variable. See torch.hub.load_state_dict_from_url() for details.\n",
    "\n",
    "A list of all models is here:\n",
    "https://pytorch.org/vision/stable/models.html#classification\n",
    "\n",
    "The ResNet50 model:\n",
    "https://pytorch.org/vision/stable/models/generated/torchvision.models.resnet50.html#torchvision.models.resnet50"
   ]
  },
  {
   "cell_type": "code",
   "execution_count": 10,
   "id": "c90791a4-ac58-4405-9eb5-70cfbc2c60d6",
   "metadata": {},
   "outputs": [],
   "source": [
    "from torchvision.models import resnet50, ResNet50_Weights\n",
    "\n",
    "class ResNet50Model:\n",
    "    \"\"\" This is the ResNet50 model from torchvision.models \"\"\"\n",
    "    def __init__(self, n_outputs=4):\n",
    "        self.n_outputs = n_outputs\n",
    "\n",
    "    def create_model(self):\n",
    "        model = resnet50(weights=ResNet50_Weights.DEFAULT)\n",
    "        model.fc = nn.Sequential(\n",
    "            nn.Linear(in_features=model.fc.in_features, out_features=512),\n",
    "            nn.ReLU(),\n",
    "            nn.Linear(in_features=512, out_features=self.n_outputs)\n",
    "        )\n",
    "        return model"
   ]
  },
  {
   "cell_type": "code",
   "execution_count": 12,
   "id": "3d9b3e30-cc88-46e2-ba82-49112c2321fe",
   "metadata": {},
   "outputs": [],
   "source": [
    "# toothmodel1 is a minimal Lightning model to train\n",
    "# there is no trainig or validation metrics, just the bar minimum\n",
    "from dentexmodel.models.toothmodel_basic import ToothModel\n",
    "model = ToothModel(train_dataset=train_dataset,\n",
    "                   batch_size=40,\n",
    "                   num_workers=8,\n",
    "                   model=ResNet50Model(n_outputs=4).create_model())"
   ]
  },
  {
   "cell_type": "markdown",
   "id": "b2a8a5a2-2939-4c72-a885-a89db827a722",
   "metadata": {},
   "source": [
    "### Test the model output ###"
   ]
  },
  {
   "cell_type": "code",
   "execution_count": 13,
   "id": "e9d79d4f-a6c9-4eca-89c0-c60b0d6a5df9",
   "metadata": {},
   "outputs": [
    {
     "name": "stdout",
     "output_type": "stream",
     "text": [
      "(40, 3, 224, 224)\n",
      "(40,)\n"
     ]
    }
   ],
   "source": [
    "# Run one batch of images through the model\n",
    "dl = model.train_dataloader()\n",
    "image_batch, label_batch = next(iter(dl))\n",
    "print(image_batch.numpy().shape)\n",
    "print(label_batch.numpy().shape)"
   ]
  },
  {
   "cell_type": "markdown",
   "id": "ffa3b5e9-9bc8-4875-b473-512dfc7bb31c",
   "metadata": {},
   "source": [
    "### Train the model ###"
   ]
  },
  {
   "cell_type": "code",
   "execution_count": 14,
   "id": "4855837b-aa31-4097-945b-e7373e975e74",
   "metadata": {},
   "outputs": [],
   "source": [
    "# Create a checkpoint directory so that we can save the latest model\n",
    "checkpoint_dir = os.path.join(dentex_dir, 'checkpoints_test')\n",
    "Path(checkpoint_dir).mkdir(parents=True, exist_ok=True) "
   ]
  },
  {
   "cell_type": "code",
   "execution_count": 15,
   "id": "1943870a-1cc2-4cd3-9fd5-808e73b3f87b",
   "metadata": {},
   "outputs": [
    {
     "name": "stderr",
     "output_type": "stream",
     "text": [
      "GPU available: True (cuda), used: True\n",
      "TPU available: False, using: 0 TPU cores\n",
      "IPU available: False, using: 0 IPUs\n",
      "HPU available: False, using: 0 HPUs\n",
      "Missing logger folder: /home/andreas/data/dentex/checkpoints_test/lightning_logs\n",
      "2024-01-07 20:41:07.090770: I tensorflow/core/util/port.cc:113] oneDNN custom operations are on. You may see slightly different numerical results due to floating-point round-off errors from different computation orders. To turn them off, set the environment variable `TF_ENABLE_ONEDNN_OPTS=0`.\n",
      "2024-01-07 20:41:07.543030: E external/local_xla/xla/stream_executor/cuda/cuda_dnn.cc:9261] Unable to register cuDNN factory: Attempting to register factory for plugin cuDNN when one has already been registered\n",
      "2024-01-07 20:41:07.543119: E external/local_xla/xla/stream_executor/cuda/cuda_fft.cc:607] Unable to register cuFFT factory: Attempting to register factory for plugin cuFFT when one has already been registered\n",
      "2024-01-07 20:41:07.613881: E external/local_xla/xla/stream_executor/cuda/cuda_blas.cc:1515] Unable to register cuBLAS factory: Attempting to register factory for plugin cuBLAS when one has already been registered\n",
      "2024-01-07 20:41:07.756221: I tensorflow/core/platform/cpu_feature_guard.cc:182] This TensorFlow binary is optimized to use available CPU instructions in performance-critical operations.\n",
      "To enable the following instructions: AVX2 AVX_VNNI FMA, in other operations, rebuild TensorFlow with the appropriate compiler flags.\n",
      "2024-01-07 20:41:08.524630: W tensorflow/compiler/tf2tensorrt/utils/py_utils.cc:38] TF-TRT Warning: Could not find TensorRT\n",
      "LOCAL_RANK: 0 - CUDA_VISIBLE_DEVICES: [0]\n",
      "\n",
      "  | Name      | Type             | Params\n",
      "-----------------------------------------------\n",
      "0 | model     | ResNet           | 24.6 M\n",
      "1 | criterion | CrossEntropyLoss | 0     \n",
      "-----------------------------------------------\n",
      "24.6 M    Trainable params\n",
      "0         Non-trainable params\n",
      "24.6 M    Total params\n",
      "98.237    Total estimated model params size (MB)\n"
     ]
    },
    {
     "data": {
      "application/vnd.jupyter.widget-view+json": {
       "model_id": "90e66c0592c34deea979bb10b21e26c5",
       "version_major": 2,
       "version_minor": 0
      },
      "text/plain": [
       "Training: |                                                                                                   …"
      ]
     },
     "metadata": {},
     "output_type": "display_data"
    },
    {
     "name": "stderr",
     "output_type": "stream",
     "text": [
      "`Trainer.fit` stopped: `max_epochs=10` reached.\n"
     ]
    }
   ],
   "source": [
    "# Create the trainer object and train the model for 20 epochs\n",
    "max_epochs = 10\n",
    "tr = Trainer(max_epochs=max_epochs,\n",
    "             deterministic=True,\n",
    "             accelerator='gpu',\n",
    "             default_root_dir=checkpoint_dir)\n",
    "# Run the training\n",
    "tr.fit(model)"
   ]
  },
  {
   "cell_type": "code",
   "execution_count": 16,
   "id": "aaa62f38-d440-4f2f-af58-db829f45b011",
   "metadata": {},
   "outputs": [
    {
     "name": "stdout",
     "output_type": "stream",
     "text": [
      "\n"
     ]
    },
    {
     "data": {
      "text/plain": [
       "tensor([[9.1063e-01, 7.7009e-02, 5.7225e-03, 6.6351e-03],\n",
       "        [3.9158e-01, 7.8333e-02, 5.2702e-01, 3.0635e-03],\n",
       "        [6.7680e-01, 1.9486e-01, 7.5903e-04, 1.2758e-01],\n",
       "        [8.5736e-01, 1.0547e-01, 6.4368e-03, 3.0725e-02],\n",
       "        [3.3564e-01, 1.4578e-01, 5.1167e-01, 6.9097e-03],\n",
       "        [1.1596e-01, 7.4793e-01, 1.3124e-01, 4.8678e-03],\n",
       "        [7.5128e-01, 1.1181e-01, 9.0656e-02, 4.6258e-02],\n",
       "        [1.3047e-03, 1.1261e-02, 9.8740e-01, 3.5594e-05],\n",
       "        [8.5907e-01, 1.0631e-01, 2.2981e-04, 3.4396e-02],\n",
       "        [5.4078e-01, 3.6396e-01, 8.1081e-02, 1.4183e-02],\n",
       "        [7.6980e-01, 1.9473e-01, 8.4000e-03, 2.7073e-02],\n",
       "        [8.0755e-01, 1.2225e-01, 5.8281e-02, 1.1922e-02],\n",
       "        [8.1396e-01, 1.3205e-01, 3.9883e-02, 1.4112e-02],\n",
       "        [6.2633e-01, 3.3829e-01, 5.3240e-03, 3.0052e-02],\n",
       "        [9.3687e-01, 5.7429e-02, 3.2127e-03, 2.4885e-03],\n",
       "        [9.5250e-01, 4.0683e-02, 1.8190e-03, 4.9961e-03],\n",
       "        [8.9037e-01, 9.8355e-02, 6.0761e-03, 5.1946e-03],\n",
       "        [3.2605e-02, 2.8951e-02, 9.3801e-01, 4.3881e-04],\n",
       "        [9.4652e-01, 3.7127e-02, 9.3862e-03, 6.9707e-03],\n",
       "        [5.8594e-01, 2.2761e-01, 1.3603e-02, 1.7285e-01],\n",
       "        [6.3827e-01, 3.0067e-01, 8.5560e-04, 6.0203e-02],\n",
       "        [7.7875e-01, 1.1503e-01, 1.0273e-01, 3.4971e-03],\n",
       "        [3.0871e-02, 1.6577e-01, 8.0127e-01, 2.0842e-03],\n",
       "        [7.5300e-01, 1.8252e-01, 3.2315e-03, 6.1244e-02],\n",
       "        [9.2761e-01, 6.7630e-02, 8.2987e-04, 3.9266e-03],\n",
       "        [7.0979e-01, 2.3779e-01, 6.3371e-04, 5.1784e-02],\n",
       "        [9.2313e-01, 5.8389e-02, 1.3636e-02, 4.8444e-03],\n",
       "        [8.2897e-01, 1.4035e-01, 8.9983e-04, 2.9776e-02],\n",
       "        [4.4234e-04, 1.6541e-02, 9.8300e-01, 1.6055e-05],\n",
       "        [2.7686e-03, 3.5751e-02, 9.6143e-01, 4.8280e-05],\n",
       "        [8.6139e-01, 1.0991e-01, 1.3066e-04, 2.8565e-02],\n",
       "        [8.5764e-01, 1.1418e-01, 3.1188e-03, 2.5059e-02],\n",
       "        [8.0640e-01, 1.4805e-01, 1.5487e-03, 4.4002e-02],\n",
       "        [4.1062e-02, 8.8102e-01, 7.5502e-02, 2.4138e-03],\n",
       "        [7.1781e-01, 1.8757e-01, 1.4470e-03, 9.3170e-02],\n",
       "        [8.0339e-01, 1.3965e-01, 4.5979e-03, 5.2354e-02],\n",
       "        [7.7441e-01, 1.6086e-01, 3.9505e-04, 6.4333e-02],\n",
       "        [7.5296e-01, 2.0273e-01, 1.3726e-02, 3.0586e-02],\n",
       "        [8.5031e-01, 7.3982e-02, 6.4770e-02, 1.0941e-02],\n",
       "        [8.1922e-01, 1.0310e-01, 1.8232e-04, 7.7504e-02]],\n",
       "       grad_fn=<SoftmaxBackward0>)"
      ]
     },
     "metadata": {},
     "output_type": "display_data"
    }
   ],
   "source": [
    "print()\n",
    "sm = nn.Softmax(dim=1)\n",
    "display(sm(model(image_batch)))"
   ]
  },
  {
   "cell_type": "code",
   "execution_count": 18,
   "id": "77e0558b-62c9-4d7b-90be-385155d0e303",
   "metadata": {},
   "outputs": [
    {
     "name": "stdout",
     "output_type": "stream",
     "text": [
      "/home/andreas/data/dentex/checkpoints/lightning_logs/version_0/checkpoints\n",
      "/home/andreas/data/dentex/checkpoints/lightning_logs/version_0/checkpoints/toothmodel1_50.ckpt\n"
     ]
    }
   ],
   "source": [
    "# Load the model from the checkpoint\n",
    "saved_checkpoint_dir = os.path.join(dentex_dir, 'checkpoints')\n",
    "model_checkpoint_dir = os.path.join(saved_checkpoint_dir, 'lightning_logs', \n",
    "                                    'version_0', 'checkpoints')\n",
    "checkpoint_file = glob.glob(os.path.join(model_checkpoint_dir, 'tooth*'))[0]\n",
    "print(model_checkpoint_dir)\n",
    "print(checkpoint_file)\n",
    "# Load the model from the latest checkpoint\n",
    "loaded_model = ToothModel.load_from_checkpoint(checkpoint_file)"
   ]
  },
  {
   "cell_type": "code",
   "execution_count": 19,
   "id": "fb1fd5b3-b251-43fe-b676-0222fa21e628",
   "metadata": {},
   "outputs": [
    {
     "data": {
      "text/plain": [
       "tensor([[9.1063e-01, 7.7009e-02, 5.7225e-03, 6.6351e-03],\n",
       "        [3.9158e-01, 7.8333e-02, 5.2702e-01, 3.0635e-03],\n",
       "        [6.7680e-01, 1.9486e-01, 7.5903e-04, 1.2758e-01],\n",
       "        [8.5736e-01, 1.0547e-01, 6.4368e-03, 3.0725e-02],\n",
       "        [3.3564e-01, 1.4578e-01, 5.1167e-01, 6.9097e-03]],\n",
       "       grad_fn=<SliceBackward0>)"
      ]
     },
     "metadata": {},
     "output_type": "display_data"
    },
    {
     "name": "stdout",
     "output_type": "stream",
     "text": [
      "\n"
     ]
    },
    {
     "data": {
      "text/plain": [
       "tensor([[9.4948e-01, 5.0314e-02, 4.0946e-06, 2.0496e-04],\n",
       "        [2.6589e-03, 5.4265e-03, 9.9183e-01, 8.7793e-05],\n",
       "        [3.7348e-01, 6.2275e-01, 1.8148e-06, 3.7767e-03],\n",
       "        [1.7629e-01, 1.1502e-01, 6.8900e-01, 1.9687e-02],\n",
       "        [3.7930e-01, 3.9475e-01, 1.9434e-01, 3.1606e-02]], device='cuda:0',\n",
       "       grad_fn=<SliceBackward0>)"
      ]
     },
     "metadata": {},
     "output_type": "display_data"
    },
    {
     "name": "stdout",
     "output_type": "stream",
     "text": [
      "\n"
     ]
    },
    {
     "data": {
      "text/plain": [
       "tensor([[0.2391, 0.2594, 0.2550, 0.2465],\n",
       "        [0.2419, 0.2557, 0.2359, 0.2665],\n",
       "        [0.2616, 0.2300, 0.2390, 0.2694],\n",
       "        [0.2520, 0.2506, 0.2421, 0.2553],\n",
       "        [0.2412, 0.2633, 0.2537, 0.2417]], grad_fn=<SliceBackward0>)"
      ]
     },
     "metadata": {},
     "output_type": "display_data"
    }
   ],
   "source": [
    "# Now, we can compare the outputs for the trained model\n",
    "display(sm(model(image_batch))[:5,:])\n",
    "print()\n",
    "# With the outputs for the loaded model\n",
    "display(sm(loaded_model(image_batch.cuda()))[:5,:])\n",
    "print()\n",
    "# OK, and now we compare this with an untrained new model\n",
    "new_model = ToothModel(train_dataset=train_dataset,\n",
    "                       batch_size=4,\n",
    "                       num_workers=1,\n",
    "                       model=ResNet50Model(n_outputs=4).create_model())\n",
    "display(sm(new_model(image_batch))[:5,:])"
   ]
  },
  {
   "cell_type": "code",
   "execution_count": 26,
   "id": "47509f4f-b758-4ba0-990f-dc964ade27cb",
   "metadata": {},
   "outputs": [],
   "source": [
    "# Link to the ckeckpoint\n",
    "link = 'https://dsets.s3.amazonaws.com/dentex/toothmodel1_50.ckpt'"
   ]
  }
 ],
 "metadata": {
  "kernelspec": {
   "display_name": "Python 3 (ipykernel)",
   "language": "python",
   "name": "python3"
  },
  "language_info": {
   "codemirror_mode": {
    "name": "ipython",
    "version": 3
   },
   "file_extension": ".py",
   "mimetype": "text/x-python",
   "name": "python",
   "nbconvert_exporter": "python",
   "pygments_lexer": "ipython3",
   "version": "3.10.11"
  }
 },
 "nbformat": 4,
 "nbformat_minor": 5
}
