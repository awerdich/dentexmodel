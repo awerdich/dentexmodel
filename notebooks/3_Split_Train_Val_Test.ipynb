{
 "cells": [
  {
   "cell_type": "markdown",
   "id": "ebc52caa-e5ff-42ad-9bb6-84891f453249",
   "metadata": {},
   "source": [
    "## Notebook 3: Split data into training, validation and test sets ##"
   ]
  },
  {
   "cell_type": "code",
   "execution_count": 1,
   "id": "146bbe69-a3c4-430d-a5f8-74fa54188d44",
   "metadata": {},
   "outputs": [
    {
     "data": {
      "text/html": [
       "<style>.container { width:100% !important; }</style>"
      ],
      "text/plain": [
       "<IPython.core.display.HTML object>"
      ]
     },
     "metadata": {},
     "output_type": "display_data"
    },
    {
     "name": "stdout",
     "output_type": "stream",
     "text": [
      "Project module version: 0.0.1.post1.dev5+gb946bb2.d20231214\n"
     ]
    }
   ],
   "source": [
    "# Imports\n",
    "import os\n",
    "import numpy as np\n",
    "import pandas as pd\n",
    "\n",
    "# Matplotlib for plotting\n",
    "from matplotlib import pyplot as plt\n",
    "from matplotlib.pyplot import cm\n",
    "from matplotlib import patches\n",
    "\n",
    "# Appearance of the Notebook\n",
    "from IPython.display import display, HTML\n",
    "display(HTML(\"<style>.container { width:100% !important; }</style>\"))\n",
    "np.set_printoptions(linewidth=110)\n",
    "pd.set_option('display.max_rows', 500)\n",
    "pd.set_option('display.max_columns', 100)\n",
    "pd.set_option('display.width', 1000)\n",
    "\n",
    "# Import this module with autoreload\n",
    "%load_ext autoreload\n",
    "%autoreload 2\n",
    "import dentexmodel as dm\n",
    "from dentexmodel.fileutils import FileOP\n",
    "from dentexmodel.imageproc import ImageData\n",
    "\n",
    "print(f'Project module version: {dm.__version__}')"
   ]
  },
  {
   "cell_type": "code",
   "execution_count": 2,
   "id": "fb742ac6-b8be-4342-97cc-b91acf1e3805",
   "metadata": {},
   "outputs": [],
   "source": [
    "# Path settings \n",
    "dentex_dir = os.path.join(os.environ['HOME'], 'data', 'dentex')\n",
    "data_dir = os.path.join(dentex_dir, 'dentex_disease')\n",
    "image_dir = os.path.join(data_dir, 'quadrant-enumeration-disease', 'xrays')\n",
    "cropped_image_dir = os.path.join(image_dir, 'crop')\n",
    "df_box_file_name = 'dentex_disease_cropped_dataset.parquet'\n",
    "df_box_file = os.path.join(dentex_dir, df_box_file_name)"
   ]
  },
  {
   "cell_type": "code",
   "execution_count": 3,
   "id": "28010766-ddfb-42d6-9c75-4010a2d9a52f",
   "metadata": {},
   "outputs": [
    {
     "data": {
      "text/html": [
       "<div>\n",
       "<style scoped>\n",
       "    .dataframe tbody tr th:only-of-type {\n",
       "        vertical-align: middle;\n",
       "    }\n",
       "\n",
       "    .dataframe tbody tr th {\n",
       "        vertical-align: top;\n",
       "    }\n",
       "\n",
       "    .dataframe thead th {\n",
       "        text-align: right;\n",
       "    }\n",
       "</style>\n",
       "<table border=\"1\" class=\"dataframe\">\n",
       "  <thead>\n",
       "    <tr style=\"text-align: right;\">\n",
       "      <th></th>\n",
       "      <th>height</th>\n",
       "      <th>width</th>\n",
       "      <th>id</th>\n",
       "      <th>file_name</th>\n",
       "      <th>image_number</th>\n",
       "      <th>file_path</th>\n",
       "      <th>quadrant</th>\n",
       "      <th>position</th>\n",
       "      <th>label</th>\n",
       "      <th>area</th>\n",
       "      <th>bbox</th>\n",
       "      <th>box_name</th>\n",
       "      <th>annotations</th>\n",
       "      <th>box_file</th>\n",
       "      <th>cropped_width</th>\n",
       "      <th>cropped_height</th>\n",
       "    </tr>\n",
       "  </thead>\n",
       "  <tbody>\n",
       "    <tr>\n",
       "      <th>0</th>\n",
       "      <td>1316</td>\n",
       "      <td>2850</td>\n",
       "      <td>57</td>\n",
       "      <td>train_0.png</td>\n",
       "      <td>0</td>\n",
       "      <td>/app/data/dentex/dentex_disease/quadrant-enume...</td>\n",
       "      <td>2</td>\n",
       "      <td>6</td>\n",
       "      <td>Caries</td>\n",
       "      <td>33015</td>\n",
       "      <td>[1791.0, 445.72727272727263, 147.4545454545452...</td>\n",
       "      <td>train_0_2_6</td>\n",
       "      <td>2</td>\n",
       "      <td>/app/data/dentex/dentex_disease/quadrant-enume...</td>\n",
       "      <td>147.0</td>\n",
       "      <td>323.0</td>\n",
       "    </tr>\n",
       "    <tr>\n",
       "      <th>1</th>\n",
       "      <td>1316</td>\n",
       "      <td>2850</td>\n",
       "      <td>57</td>\n",
       "      <td>train_0.png</td>\n",
       "      <td>0</td>\n",
       "      <td>/app/data/dentex/dentex_disease/quadrant-enume...</td>\n",
       "      <td>4</td>\n",
       "      <td>8</td>\n",
       "      <td>Caries</td>\n",
       "      <td>35006</td>\n",
       "      <td>[682.090909090909, 687.5454545454545, 200.0, 3...</td>\n",
       "      <td>train_0_4_8</td>\n",
       "      <td>2</td>\n",
       "      <td>/app/data/dentex/dentex_disease/quadrant-enume...</td>\n",
       "      <td>200.0</td>\n",
       "      <td>300.0</td>\n",
       "    </tr>\n",
       "  </tbody>\n",
       "</table>\n",
       "</div>"
      ],
      "text/plain": [
       "   height  width  id    file_name  image_number                                          file_path quadrant position   label   area                                               bbox     box_name  annotations                                           box_file  cropped_width  cropped_height\n",
       "0    1316   2850  57  train_0.png             0  /app/data/dentex/dentex_disease/quadrant-enume...        2        6  Caries  33015  [1791.0, 445.72727272727263, 147.4545454545452...  train_0_2_6            2  /app/data/dentex/dentex_disease/quadrant-enume...          147.0           323.0\n",
       "1    1316   2850  57  train_0.png             0  /app/data/dentex/dentex_disease/quadrant-enume...        4        8  Caries  35006  [682.090909090909, 687.5454545454545, 200.0, 3...  train_0_4_8            2  /app/data/dentex/dentex_disease/quadrant-enume...          200.0           300.0"
      ]
     },
     "metadata": {},
     "output_type": "display_data"
    }
   ],
   "source": [
    "# Load the data frame with image paths and bounding boxes\n",
    "data_df = pd.read_parquet(df_box_file)\n",
    "display(data_df.head(2))"
   ]
  },
  {
   "cell_type": "code",
   "execution_count": 4,
   "id": "25ea8b19-44a0-4f6b-934b-0ada81ce02ff",
   "metadata": {},
   "outputs": [
    {
     "name": "stdout",
     "output_type": "stream",
     "text": [
      "We have 2445 images in the test set.\n",
      "We have 504 images in the validation set.\n",
      "We have 507 images in the test set.\n",
      "set()\n",
      "set()\n",
      "set()\n"
     ]
    }
   ],
   "source": [
    "# We mark the images for the data sets in the data frame\n",
    "seed = 123\n",
    "dset_df = data_df.assign(dataset=None).\\\n",
    "                sample(frac=1, random_state=seed)\n",
    "# Set the number of images for the training set\n",
    "n_images_train = int(np.ceil(0.70 * len(data_df)))\n",
    "# Set the number of images for the test set\n",
    "n_images_test = int(np.ceil(0.15 * len(data_df)))\n",
    "# Take the remaining images for validation\n",
    "n_images_val = len(data_df) - n_images_train - n_images_test\n",
    "\n",
    "dataset_names = ['train', 'val', 'test']\n",
    "dataset_numbers = [n_images_train, n_images_val, n_images_test]\n",
    "startindex = 0\n",
    "for d, dset in enumerate(dataset_names):\n",
    "    dset_images = dataset_numbers[d]\n",
    "    index_list = np.arange(startindex, startindex+dset_images)\n",
    "    startindex+=dset_images\n",
    "    dset_df.loc[dset_df.index.isin(index_list), 'dataset'] = dset\n",
    "\n",
    "# Shuffle this one more time and then save the data splits\n",
    "seed = 234\n",
    "dset_df = dset_df.sample(frac=1, random_state=seed).reset_index(drop=True)\n",
    "\n",
    "# Make sure that we have three non-overlapping data sets\n",
    "train_set = set(dset_df.loc[dset_df['dataset']=='train', 'box_name'].values)\n",
    "print(f'We have {len(train_set)} images in the test set.')\n",
    "val_set = set(dset_df.loc[dset_df['dataset']=='val', 'box_name'].values)\n",
    "print(f'We have {len(val_set)} images in the validation set.')\n",
    "test_set = set(dset_df.loc[dset_df['dataset']=='test', 'box_name'].values)\n",
    "print(f'We have {len(test_set)} images in the test set.')\n",
    "\n",
    "# Make sure that these data sets are distinct\n",
    "print(train_set.intersection(val_set))\n",
    "print(train_set.intersection(test_set))\n",
    "print(val_set.intersection(test_set))"
   ]
  },
  {
   "cell_type": "code",
   "execution_count": 5,
   "id": "a04562a4-277d-47d2-9b3a-2ec854f51059",
   "metadata": {},
   "outputs": [],
   "source": [
    "# Save the data split\n",
    "datasplit_file_name = 'dentex_disease_datasplit.parquet'\n",
    "datasplit_file = os.path.join(dentex_dir, datasplit_file_name)\n",
    "dset_df.to_parquet(datasplit_file)"
   ]
  }
 ],
 "metadata": {
  "kernelspec": {
   "display_name": "Python 3 (ipykernel)",
   "language": "python",
   "name": "python3"
  },
  "language_info": {
   "codemirror_mode": {
    "name": "ipython",
    "version": 3
   },
   "file_extension": ".py",
   "mimetype": "text/x-python",
   "name": "python",
   "nbconvert_exporter": "python",
   "pygments_lexer": "ipython3",
   "version": "3.10.11"
  }
 },
 "nbformat": 4,
 "nbformat_minor": 5
}
