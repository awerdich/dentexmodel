{
 "cells": [
  {
   "cell_type": "markdown",
   "id": "ebc52caa-e5ff-42ad-9bb6-84891f453249",
   "metadata": {},
   "source": [
    "## Notebook 3: Split data into training, validation and test sets ##"
   ]
  },
  {
   "cell_type": "code",
   "execution_count": 1,
   "id": "146bbe69-a3c4-430d-a5f8-74fa54188d44",
   "metadata": {},
   "outputs": [
    {
     "data": {
      "text/html": [
       "<style>.container { width:100% !important; }</style>"
      ],
      "text/plain": [
       "<IPython.core.display.HTML object>"
      ]
     },
     "metadata": {},
     "output_type": "display_data"
    },
    {
     "name": "stdout",
     "output_type": "stream",
     "text": [
      "Project module version: 0.0.post1.dev25+ga99b50c.d20231228\n"
     ]
    }
   ],
   "source": [
    "# Imports\n",
    "import os\n",
    "import numpy as np\n",
    "import pandas as pd\n",
    "\n",
    "# Matplotlib for plotting\n",
    "from matplotlib import pyplot as plt\n",
    "from matplotlib.pyplot import cm\n",
    "from matplotlib import patches\n",
    "\n",
    "# Appearance of the Notebook\n",
    "from IPython.display import display, HTML\n",
    "display(HTML(\"<style>.container { width:100% !important; }</style>\"))\n",
    "np.set_printoptions(linewidth=110)\n",
    "pd.set_option('display.max_rows', 500)\n",
    "pd.set_option('display.max_columns', 100)\n",
    "pd.set_option('display.width', 1000)\n",
    "\n",
    "# Import this module with autoreload\n",
    "%load_ext autoreload\n",
    "%autoreload 2\n",
    "import dentexmodel as dm\n",
    "from dentexmodel.fileutils import FileOP\n",
    "from dentexmodel.imageproc import ImageData\n",
    "\n",
    "print(f'Project module version: {dm.__version__}')"
   ]
  },
  {
   "cell_type": "code",
   "execution_count": 2,
   "id": "fb742ac6-b8be-4342-97cc-b91acf1e3805",
   "metadata": {},
   "outputs": [],
   "source": [
    "# Path settings \n",
    "dentex_dir = os.path.join(os.environ['HOME'], 'data', 'dentex')\n",
    "data_dir = os.path.join(dentex_dir, 'dentex_disease')\n",
    "image_dir = os.path.join(data_dir, 'quadrant-enumeration-disease', 'xrays')\n",
    "cropped_image_dir = os.path.join(image_dir, 'crop')\n",
    "df_box_file_name = 'dentex_disease_cropped_dataset.parquet'\n",
    "df_box_file = os.path.join(dentex_dir, df_box_file_name)"
   ]
  },
  {
   "cell_type": "code",
   "execution_count": 3,
   "id": "28010766-ddfb-42d6-9c75-4010a2d9a52f",
   "metadata": {},
   "outputs": [
    {
     "data": {
      "text/html": [
       "<div>\n",
       "<style scoped>\n",
       "    .dataframe tbody tr th:only-of-type {\n",
       "        vertical-align: middle;\n",
       "    }\n",
       "\n",
       "    .dataframe tbody tr th {\n",
       "        vertical-align: top;\n",
       "    }\n",
       "\n",
       "    .dataframe thead th {\n",
       "        text-align: right;\n",
       "    }\n",
       "</style>\n",
       "<table border=\"1\" class=\"dataframe\">\n",
       "  <thead>\n",
       "    <tr style=\"text-align: right;\">\n",
       "      <th></th>\n",
       "      <th>height</th>\n",
       "      <th>width</th>\n",
       "      <th>id</th>\n",
       "      <th>file_name</th>\n",
       "      <th>image_number</th>\n",
       "      <th>file_path</th>\n",
       "      <th>quadrant</th>\n",
       "      <th>position</th>\n",
       "      <th>label</th>\n",
       "      <th>area</th>\n",
       "      <th>bbox</th>\n",
       "      <th>box_name</th>\n",
       "      <th>annotations</th>\n",
       "      <th>box_file</th>\n",
       "      <th>im_width</th>\n",
       "      <th>im_height</th>\n",
       "    </tr>\n",
       "  </thead>\n",
       "  <tbody>\n",
       "    <tr>\n",
       "      <th>0</th>\n",
       "      <td>1316</td>\n",
       "      <td>2850</td>\n",
       "      <td>57</td>\n",
       "      <td>train_0.png</td>\n",
       "      <td>0</td>\n",
       "      <td>/app/data/dentex/dentex_disease/quadrant-enume...</td>\n",
       "      <td>2</td>\n",
       "      <td>6</td>\n",
       "      <td>Caries</td>\n",
       "      <td>33015</td>\n",
       "      <td>[1791.0, 445.72727272727263, 147.4545454545452...</td>\n",
       "      <td>train_0_334_2_6</td>\n",
       "      <td>2</td>\n",
       "      <td>/app/data/dentex/dentex_disease/quadrant-enume...</td>\n",
       "      <td>147</td>\n",
       "      <td>323</td>\n",
       "    </tr>\n",
       "    <tr>\n",
       "      <th>1</th>\n",
       "      <td>1316</td>\n",
       "      <td>2850</td>\n",
       "      <td>57</td>\n",
       "      <td>train_0.png</td>\n",
       "      <td>0</td>\n",
       "      <td>/app/data/dentex/dentex_disease/quadrant-enume...</td>\n",
       "      <td>4</td>\n",
       "      <td>8</td>\n",
       "      <td>Caries</td>\n",
       "      <td>35006</td>\n",
       "      <td>[682.090909090909, 687.5454545454545, 200.0, 3...</td>\n",
       "      <td>train_0_335_4_8</td>\n",
       "      <td>2</td>\n",
       "      <td>/app/data/dentex/dentex_disease/quadrant-enume...</td>\n",
       "      <td>200</td>\n",
       "      <td>300</td>\n",
       "    </tr>\n",
       "  </tbody>\n",
       "</table>\n",
       "</div>"
      ],
      "text/plain": [
       "   height  width  id    file_name  image_number                                          file_path quadrant position   label   area                                               bbox         box_name  annotations                                           box_file  im_width  im_height\n",
       "0    1316   2850  57  train_0.png             0  /app/data/dentex/dentex_disease/quadrant-enume...        2        6  Caries  33015  [1791.0, 445.72727272727263, 147.4545454545452...  train_0_334_2_6            2  /app/data/dentex/dentex_disease/quadrant-enume...       147        323\n",
       "1    1316   2850  57  train_0.png             0  /app/data/dentex/dentex_disease/quadrant-enume...        4        8  Caries  35006  [682.090909090909, 687.5454545454545, 200.0, 3...  train_0_335_4_8            2  /app/data/dentex/dentex_disease/quadrant-enume...       200        300"
      ]
     },
     "metadata": {},
     "output_type": "display_data"
    }
   ],
   "source": [
    "# Load the data frame with image paths and bounding boxes\n",
    "data_df = pd.read_parquet(df_box_file)\n",
    "display(data_df.head(2))"
   ]
  },
  {
   "cell_type": "code",
   "execution_count": 4,
   "id": "ea0beb3f-e853-4d43-b296-bb45bf8911f9",
   "metadata": {},
   "outputs": [
    {
     "name": "stdout",
     "output_type": "stream",
     "text": [
      "3529\n",
      "(3529, 16)\n"
     ]
    }
   ],
   "source": [
    "print(len(data_df['box_name'].unique()))\n",
    "print(data_df.shape)"
   ]
  },
  {
   "cell_type": "code",
   "execution_count": 5,
   "id": "4da265c5-3771-4b78-ba7a-1d742953356a",
   "metadata": {},
   "outputs": [
    {
     "data": {
      "text/html": [
       "<div>\n",
       "<style scoped>\n",
       "    .dataframe tbody tr th:only-of-type {\n",
       "        vertical-align: middle;\n",
       "    }\n",
       "\n",
       "    .dataframe tbody tr th {\n",
       "        vertical-align: top;\n",
       "    }\n",
       "\n",
       "    .dataframe thead th {\n",
       "        text-align: right;\n",
       "    }\n",
       "</style>\n",
       "<table border=\"1\" class=\"dataframe\">\n",
       "  <thead>\n",
       "    <tr style=\"text-align: right;\">\n",
       "      <th></th>\n",
       "      <th>height</th>\n",
       "      <th>width</th>\n",
       "      <th>id</th>\n",
       "      <th>file_name</th>\n",
       "      <th>image_number</th>\n",
       "      <th>file_path</th>\n",
       "      <th>quadrant</th>\n",
       "      <th>position</th>\n",
       "      <th>label</th>\n",
       "      <th>area</th>\n",
       "      <th>bbox</th>\n",
       "      <th>box_name</th>\n",
       "      <th>annotations</th>\n",
       "      <th>box_file</th>\n",
       "      <th>im_width</th>\n",
       "      <th>im_height</th>\n",
       "    </tr>\n",
       "  </thead>\n",
       "  <tbody>\n",
       "  </tbody>\n",
       "</table>\n",
       "</div>"
      ],
      "text/plain": [
       "Empty DataFrame\n",
       "Columns: [height, width, id, file_name, image_number, file_path, quadrant, position, label, area, bbox, box_name, annotations, box_file, im_width, im_height]\n",
       "Index: []"
      ]
     },
     "metadata": {},
     "output_type": "display_data"
    }
   ],
   "source": [
    "# Too many rows. \n",
    "n = data_df[['box_name', 'label']].\\\n",
    "                groupby('box_name').count().\\\n",
    "                reset_index(drop=False).\\\n",
    "                rename(columns={'label': 'nrows'})\n",
    "#display(n.loc[n['nrows']>1])\n",
    "display(data_df.loc[data_df['box_name'] == 'train_267_4_6'])"
   ]
  },
  {
   "cell_type": "code",
   "execution_count": 6,
   "id": "f6dda4e0-c9f5-4023-961a-ed23b33c77a5",
   "metadata": {},
   "outputs": [
    {
     "data": {
      "text/plain": [
       "label\n",
       "Caries               2189\n",
       "Impacted              604\n",
       "Deep Caries           578\n",
       "Periapical Lesion     158\n",
       "Name: count, dtype: int64"
      ]
     },
     "metadata": {},
     "output_type": "display_data"
    }
   ],
   "source": [
    "# Add a new column for the train, test and val data splits\n",
    "dset_df = data_df.copy().assign(dataset=None)\n",
    "\n",
    "# Look at the class distribution\n",
    "display(dset_df['label'].value_counts())\n",
    "\n",
    "# For the test set, take 30 random images from each class\n",
    "n_images_test_per_class = 30\n",
    "# For the validation set, take 15 images from each class\n",
    "n_images_val_per_class = 15\n",
    "\n",
    "dataset_list = ['test', 'val']\n",
    "n_image_list = [n_images_test_per_class, n_images_val_per_class]\n",
    "seed = 123\n",
    "for d, dataset in enumerate(dataset_list):\n",
    "    for c, cl in enumerate(data_df['label'].unique()):\n",
    "        np.random.seed(seed)\n",
    "        index_list = np.random.choice(dset_df.loc[(dset_df['label'] == cl) & (dset_df['dataset'].isnull())].\\\n",
    "                                      index, size=n_image_list[d], replace=False)\n",
    "        dset_df.loc[dset_df.index.isin(index_list), 'dataset'] = dataset\n",
    "\n",
    "# Use the remaining images for training\n",
    "dset_df.loc[dset_df['dataset'].isnull(), 'dataset'] = 'train'"
   ]
  },
  {
   "cell_type": "code",
   "execution_count": 7,
   "id": "25ea8b19-44a0-4f6b-934b-0ada81ce02ff",
   "metadata": {},
   "outputs": [
    {
     "name": "stdout",
     "output_type": "stream",
     "text": [
      "We have 3349 images in the train set.\n",
      "We have 60 images in the validation set.\n",
      "We have 120 images in the test set.\n",
      "\n",
      "set()\n",
      "set()\n",
      "set()\n"
     ]
    }
   ],
   "source": [
    "# Shuffle this one more time and then save the data splits\n",
    "seed = 234\n",
    "dset_df = dset_df.sample(frac=1, random_state=seed).reset_index(drop=True)\n",
    "\n",
    "# Make sure that we have three non-overlapping data sets\n",
    "train_set = set(dset_df.loc[dset_df['dataset']=='train', 'box_name'].values)\n",
    "print(f'We have {len(train_set)} images in the train set.')\n",
    "\n",
    "val_set = set(dset_df.loc[dset_df['dataset']=='val', 'box_name'].values)\n",
    "print(f'We have {len(val_set)} images in the validation set.')\n",
    "\n",
    "test_set = set(dset_df.loc[dset_df['dataset']=='test', 'box_name'].values)\n",
    "print(f'We have {len(test_set)} images in the test set.')\n",
    "print()\n",
    "\n",
    "# Make sure that these data sets are distinct\n",
    "print(train_set.intersection(val_set))\n",
    "print(train_set.intersection(test_set))\n",
    "print(val_set.intersection(test_set))"
   ]
  },
  {
   "cell_type": "code",
   "execution_count": 8,
   "id": "a04562a4-277d-47d2-9b3a-2ec854f51059",
   "metadata": {},
   "outputs": [
    {
     "name": "stdout",
     "output_type": "stream",
     "text": [
      "/app/data/dentex/dentex_disease_datasplit.parquet\n"
     ]
    },
    {
     "data": {
      "text/html": [
       "<div>\n",
       "<style scoped>\n",
       "    .dataframe tbody tr th:only-of-type {\n",
       "        vertical-align: middle;\n",
       "    }\n",
       "\n",
       "    .dataframe tbody tr th {\n",
       "        vertical-align: top;\n",
       "    }\n",
       "\n",
       "    .dataframe thead th {\n",
       "        text-align: right;\n",
       "    }\n",
       "</style>\n",
       "<table border=\"1\" class=\"dataframe\">\n",
       "  <thead>\n",
       "    <tr style=\"text-align: right;\">\n",
       "      <th></th>\n",
       "      <th>height</th>\n",
       "      <th>width</th>\n",
       "      <th>id</th>\n",
       "      <th>file_name</th>\n",
       "      <th>image_number</th>\n",
       "      <th>file_path</th>\n",
       "      <th>quadrant</th>\n",
       "      <th>position</th>\n",
       "      <th>label</th>\n",
       "      <th>area</th>\n",
       "      <th>bbox</th>\n",
       "      <th>box_name</th>\n",
       "      <th>annotations</th>\n",
       "      <th>box_file</th>\n",
       "      <th>im_width</th>\n",
       "      <th>im_height</th>\n",
       "      <th>dataset</th>\n",
       "    </tr>\n",
       "  </thead>\n",
       "  <tbody>\n",
       "    <tr>\n",
       "      <th>0</th>\n",
       "      <td>1316</td>\n",
       "      <td>2765</td>\n",
       "      <td>122</td>\n",
       "      <td>train_246.png</td>\n",
       "      <td>246</td>\n",
       "      <td>/app/data/dentex/dentex_disease/quadrant-enume...</td>\n",
       "      <td>3</td>\n",
       "      <td>8</td>\n",
       "      <td>Impacted</td>\n",
       "      <td>32453</td>\n",
       "      <td>[1981.0, 737.0, 166.0, 252.0]</td>\n",
       "      <td>train_246_665_3_8</td>\n",
       "      <td>7</td>\n",
       "      <td>/app/data/dentex/dentex_disease/quadrant-enume...</td>\n",
       "      <td>166</td>\n",
       "      <td>252</td>\n",
       "      <td>train</td>\n",
       "    </tr>\n",
       "    <tr>\n",
       "      <th>1</th>\n",
       "      <td>1316</td>\n",
       "      <td>2850</td>\n",
       "      <td>703</td>\n",
       "      <td>train_344.png</td>\n",
       "      <td>344</td>\n",
       "      <td>/app/data/dentex/dentex_disease/quadrant-enume...</td>\n",
       "      <td>1</td>\n",
       "      <td>5</td>\n",
       "      <td>Deep Caries</td>\n",
       "      <td>20697</td>\n",
       "      <td>[1042.0, 418.0, 96.0, 293.0]</td>\n",
       "      <td>train_344_3511_1_5</td>\n",
       "      <td>3</td>\n",
       "      <td>/app/data/dentex/dentex_disease/quadrant-enume...</td>\n",
       "      <td>96</td>\n",
       "      <td>293</td>\n",
       "      <td>train</td>\n",
       "    </tr>\n",
       "    <tr>\n",
       "      <th>2</th>\n",
       "      <td>1316</td>\n",
       "      <td>2938</td>\n",
       "      <td>138</td>\n",
       "      <td>train_573.png</td>\n",
       "      <td>573</td>\n",
       "      <td>/app/data/dentex/dentex_disease/quadrant-enume...</td>\n",
       "      <td>4</td>\n",
       "      <td>6</td>\n",
       "      <td>Deep Caries</td>\n",
       "      <td>42532</td>\n",
       "      <td>[1037.0, 674.0, 183.0, 303.0]</td>\n",
       "      <td>train_573_725_4_6</td>\n",
       "      <td>6</td>\n",
       "      <td>/app/data/dentex/dentex_disease/quadrant-enume...</td>\n",
       "      <td>183</td>\n",
       "      <td>303</td>\n",
       "      <td>train</td>\n",
       "    </tr>\n",
       "    <tr>\n",
       "      <th>3</th>\n",
       "      <td>1316</td>\n",
       "      <td>2862</td>\n",
       "      <td>242</td>\n",
       "      <td>train_358.png</td>\n",
       "      <td>358</td>\n",
       "      <td>/app/data/dentex/dentex_disease/quadrant-enume...</td>\n",
       "      <td>3</td>\n",
       "      <td>8</td>\n",
       "      <td>Deep Caries</td>\n",
       "      <td>29479</td>\n",
       "      <td>[2039.4455445544554, 745.4356435643564, 181.18...</td>\n",
       "      <td>train_358_1275_3_8</td>\n",
       "      <td>12</td>\n",
       "      <td>/app/data/dentex/dentex_disease/quadrant-enume...</td>\n",
       "      <td>182</td>\n",
       "      <td>230</td>\n",
       "      <td>train</td>\n",
       "    </tr>\n",
       "    <tr>\n",
       "      <th>4</th>\n",
       "      <td>1504</td>\n",
       "      <td>2868</td>\n",
       "      <td>353</td>\n",
       "      <td>train_374.png</td>\n",
       "      <td>374</td>\n",
       "      <td>/app/data/dentex/dentex_disease/quadrant-enume...</td>\n",
       "      <td>3</td>\n",
       "      <td>8</td>\n",
       "      <td>Caries</td>\n",
       "      <td>33774</td>\n",
       "      <td>[2185.0, 812.0, 197.0, 255.0]</td>\n",
       "      <td>train_374_1863_3_8</td>\n",
       "      <td>2</td>\n",
       "      <td>/app/data/dentex/dentex_disease/quadrant-enume...</td>\n",
       "      <td>197</td>\n",
       "      <td>255</td>\n",
       "      <td>train</td>\n",
       "    </tr>\n",
       "  </tbody>\n",
       "</table>\n",
       "</div>"
      ],
      "text/plain": [
       "   height  width   id      file_name  image_number                                          file_path quadrant position        label   area                                               bbox            box_name  annotations                                           box_file  im_width  im_height dataset\n",
       "0    1316   2765  122  train_246.png           246  /app/data/dentex/dentex_disease/quadrant-enume...        3        8     Impacted  32453                      [1981.0, 737.0, 166.0, 252.0]   train_246_665_3_8            7  /app/data/dentex/dentex_disease/quadrant-enume...       166        252   train\n",
       "1    1316   2850  703  train_344.png           344  /app/data/dentex/dentex_disease/quadrant-enume...        1        5  Deep Caries  20697                       [1042.0, 418.0, 96.0, 293.0]  train_344_3511_1_5            3  /app/data/dentex/dentex_disease/quadrant-enume...        96        293   train\n",
       "2    1316   2938  138  train_573.png           573  /app/data/dentex/dentex_disease/quadrant-enume...        4        6  Deep Caries  42532                      [1037.0, 674.0, 183.0, 303.0]   train_573_725_4_6            6  /app/data/dentex/dentex_disease/quadrant-enume...       183        303   train\n",
       "3    1316   2862  242  train_358.png           358  /app/data/dentex/dentex_disease/quadrant-enume...        3        8  Deep Caries  29479  [2039.4455445544554, 745.4356435643564, 181.18...  train_358_1275_3_8           12  /app/data/dentex/dentex_disease/quadrant-enume...       182        230   train\n",
       "4    1504   2868  353  train_374.png           374  /app/data/dentex/dentex_disease/quadrant-enume...        3        8       Caries  33774                      [2185.0, 812.0, 197.0, 255.0]  train_374_1863_3_8            2  /app/data/dentex/dentex_disease/quadrant-enume...       197        255   train"
      ]
     },
     "metadata": {},
     "output_type": "display_data"
    }
   ],
   "source": [
    "# Save the data split\n",
    "datasplit_file_name = 'dentex_disease_datasplit.parquet'\n",
    "datasplit_file = os.path.join(dentex_dir, datasplit_file_name)\n",
    "dset_df.to_parquet(datasplit_file)\n",
    "print(datasplit_file)\n",
    "display(dset_df.head())"
   ]
  }
 ],
 "metadata": {
  "kernelspec": {
   "display_name": "Python 3 (ipykernel)",
   "language": "python",
   "name": "python3"
  },
  "language_info": {
   "codemirror_mode": {
    "name": "ipython",
    "version": 3
   },
   "file_extension": ".py",
   "mimetype": "text/x-python",
   "name": "python",
   "nbconvert_exporter": "python",
   "pygments_lexer": "ipython3",
   "version": "3.10.11"
  }
 },
 "nbformat": 4,
 "nbformat_minor": 5
}
