{
 "cells": [
  {
   "cell_type": "markdown",
   "id": "ebc52caa-e5ff-42ad-9bb6-84891f453249",
   "metadata": {},
   "source": [
    "## Advanced model with learning rate scheduler and performance metrics ##"
   ]
  },
  {
   "cell_type": "code",
   "execution_count": 17,
   "id": "146bbe69-a3c4-430d-a5f8-74fa54188d44",
   "metadata": {},
   "outputs": [
    {
     "data": {
      "text/html": [
       "<style>.container { width:100% !important; }</style>"
      ],
      "text/plain": [
       "<IPython.core.display.HTML object>"
      ]
     },
     "metadata": {},
     "output_type": "display_data"
    },
    {
     "name": "stdout",
     "output_type": "stream",
     "text": [
      "The autoreload extension is already loaded. To reload it, use:\n",
      "  %reload_ext autoreload\n",
      "dentexmodel package version:  0.0.post1.dev142+g4a80787.d20240219\n"
     ]
    }
   ],
   "source": [
    "# Imports\n",
    "import os\n",
    "from pathlib import Path\n",
    "import numpy as np\n",
    "import pandas as pd\n",
    "import cv2\n",
    "import glob\n",
    "\n",
    "# Matplotlib for plotting\n",
    "from matplotlib import pyplot as plt\n",
    "from matplotlib.pyplot import cm\n",
    "\n",
    "# PyTorch packages\n",
    "import torch\n",
    "import torch.nn as nn\n",
    "from lightning.pytorch.loggers import TensorBoardLogger\n",
    "import lightning.pytorch as pl\n",
    "from lightning.pytorch import Trainer, seed_everything\n",
    "from lightning.pytorch.callbacks import ModelCheckpoint, LearningRateFinder, LearningRateMonitor\n",
    "import torchmetrics\n",
    "\n",
    "# Albumentations library\n",
    "import albumentations as alb\n",
    "\n",
    "# Appearance of the Notebook\n",
    "from IPython.display import display, HTML\n",
    "display(HTML(\"<style>.container { width:100% !important; }</style>\"))\n",
    "np.set_printoptions(linewidth=110)\n",
    "pd.set_option('display.max_rows', 500)\n",
    "pd.set_option('display.max_columns', 100)\n",
    "pd.set_option('display.width', 1000)\n",
    "\n",
    "# Import this module with autoreload\n",
    "%load_ext autoreload\n",
    "%autoreload 2\n",
    "import dentexmodel as dm\n",
    "from dentexmodel.fileutils import FileOP\n",
    "from dentexmodel.imageproc import ImageData\n",
    "from dentexmodel.models.toothmodel_fancy import ToothModel, FineTuneLearningRateFinder\n",
    "from dentexmodel.torchdataset import DatasetFromDF, load_and_process_image\n",
    "print(f'dentexmodel package version:  {dm.__version__}')"
   ]
  },
  {
   "cell_type": "code",
   "execution_count": 18,
   "id": "c4853777-3273-45e0-9020-6bab6f4ed372",
   "metadata": {},
   "outputs": [
    {
     "name": "stdout",
     "output_type": "stream",
     "text": [
      "CUDA available: True\n",
      "Number of GPUs found:  1\n",
      "Current device ID:     0\n",
      "GPU device name:       NVIDIA GeForce RTX 3070 Laptop GPU\n",
      "CUDNN version:         8902\n",
      "\n",
      "Device for model training/inference: cuda:0\n"
     ]
    }
   ],
   "source": [
    "# GPU checks\n",
    "is_cuda = torch.cuda.is_available()\n",
    "print(f'CUDA available: {is_cuda}')\n",
    "print(f'Number of GPUs found:  {torch.cuda.device_count()}')\n",
    "\n",
    "if is_cuda:\n",
    "    print(f'Current device ID:     {torch.cuda.current_device()}')\n",
    "    print(f'GPU device name:       {torch.cuda.get_device_name(0)}')\n",
    "    print(f'CUDNN version:         {torch.backends.cudnn.version()}')\n",
    "    device_str = 'cuda:0'\n",
    "    torch.cuda.empty_cache() \n",
    "else:\n",
    "    device_str = 'cpu'\n",
    "device = torch.device(device_str)\n",
    "print()\n",
    "print(f'Device for model training/inference: {device}')"
   ]
  },
  {
   "cell_type": "code",
   "execution_count": 19,
   "id": "fb742ac6-b8be-4342-97cc-b91acf1e3805",
   "metadata": {},
   "outputs": [],
   "source": [
    "# Path settings \n",
    "dentex_dir = os.path.join(os.environ['HOME'], 'data', 'dentex')\n",
    "data_dir = os.path.join(dentex_dir, 'dentex_classification')\n",
    "model_dir = os.path.join(os.environ['HOME'], 'data', 'model')\n",
    "\n",
    "image_dir = os.path.join(data_dir, 'quadrant-enumeration-disease', 'xrays', 'crop')\n",
    "data_file_name = 'dentex_disease_datasplit.parquet'\n",
    "data_file = os.path.join(data_dir, data_file_name)"
   ]
  },
  {
   "cell_type": "markdown",
   "id": "d7358557-53d8-4d69-b694-55c406c0f47f",
   "metadata": {},
   "source": [
    "### Create PyTorch datasets from data frame ###"
   ]
  },
  {
   "cell_type": "code",
   "execution_count": 20,
   "id": "64692d68-33f9-4a65-a937-6fa485594f55",
   "metadata": {},
   "outputs": [
    {
     "data": {
      "text/plain": [
       "Caries               1\n",
       "Deep Caries          3\n",
       "Impacted             0\n",
       "Periapical Lesion    2\n",
       "Name: 0, dtype: int64"
      ]
     },
     "metadata": {},
     "output_type": "display_data"
    }
   ],
   "source": [
    "data_df = pd.read_parquet(data_file)\n",
    "# Convert class names to labels\n",
    "cl_names = sorted(list(data_df['label'].unique()))\n",
    "# Get the class labels\n",
    "cl_numbers = [data_df.loc[data_df['label'] == label, 'cl'].values[0] for label in cl_names]\n",
    "label_dict = dict(zip(cl_names, cl_numbers))\n",
    "cl_dict = dict(zip(cl_numbers, cl_names))\n",
    "# Show the class labels\n",
    "display(pd.DataFrame(label_dict, index=[0]).iloc[0])"
   ]
  },
  {
   "cell_type": "code",
   "execution_count": 21,
   "id": "c0af688f-9c27-4227-8374-06643a7c49a5",
   "metadata": {},
   "outputs": [
    {
     "name": "stdout",
     "output_type": "stream",
     "text": [
      "Found 3289 samples in the training set.\n",
      "Found 120 samples in the validation set.\n",
      "Found 120 samples in the test set.\n",
      "\n"
     ]
    }
   ],
   "source": [
    "# Select the samples for training, validation and testing from our data frame\n",
    "train_df = data_df.loc[data_df['dataset']=='train']\n",
    "val_df = data_df.loc[data_df['dataset']=='val']\n",
    "test_df = data_df.loc[data_df['dataset']=='test']\n",
    "\n",
    "train_samples = sorted(list(train_df['box_name'].unique()))\n",
    "print(f'Found {len(train_samples)} samples in the training set.')\n",
    "val_samples = sorted(list(val_df['box_name'].unique()))\n",
    "print(f'Found {len(val_samples)} samples in the validation set.')\n",
    "test_samples = sorted(list(test_df['box_name'].unique()))\n",
    "print(f'Found {len(test_samples)} samples in the test set.')\n",
    "print()"
   ]
  },
  {
   "cell_type": "code",
   "execution_count": 22,
   "id": "b366254d-a33b-4779-855a-48242cf1f6cc",
   "metadata": {},
   "outputs": [],
   "source": [
    "# Augmentations\n",
    "# Image augmentations is part of the PyTorch dataset\n",
    "\n",
    "# The output of this transformation must match the required input size for the model\n",
    "max_image_size = 550\n",
    "im_size = 224\n",
    "\n",
    "# Definition of the image augmentations for the training set\n",
    "train_transform = alb.Compose([\n",
    "    alb.Resize(im_size + 32, im_size + 32),\n",
    "    alb.RandomCrop(im_size, im_size),\n",
    "    alb.HorizontalFlip(),\n",
    "    alb.ShiftScaleRotate(),\n",
    "    alb.Blur(),\n",
    "    alb.RandomGamma(),\n",
    "    alb.Sharpen(),\n",
    "    alb.GaussNoise(),\n",
    "    alb.CoarseDropout(16, 32, 32),\n",
    "    alb.CLAHE(),\n",
    "    alb.Normalize(mean=ImageData().image_net_mean, \n",
    "                  std=ImageData().image_net_std)])\n",
    "\n",
    "# For validation and testing, we do not want any augmentations\n",
    "# but we will still need the correct input size and image normalization\n",
    "val_transform = alb.Compose([\n",
    "    alb.Resize(im_size, im_size),\n",
    "    alb.Normalize(mean=ImageData().image_net_mean, \n",
    "                  std=ImageData().image_net_std)])"
   ]
  },
  {
   "cell_type": "code",
   "execution_count": 23,
   "id": "5edc6ffb-c54a-41ab-b899-20190b777ea8",
   "metadata": {},
   "outputs": [],
   "source": [
    "# Create the data sets from the data frame\n",
    "train_dataset = DatasetFromDF(data=train_df,\n",
    "                              file_col='box_file',\n",
    "                              label_col='cl',\n",
    "                              max_image_size=max_image_size,\n",
    "                              transform=train_transform,\n",
    "                              validate=True)\n",
    "\n",
    "val_dataset = DatasetFromDF(data=val_df,\n",
    "                            file_col='box_file',\n",
    "                            label_col='cl',\n",
    "                            max_image_size=max_image_size,\n",
    "                            transform=val_transform,\n",
    "                            validate=True)\n",
    "\n",
    "test_dataset = DatasetFromDF(data=test_df,\n",
    "                             file_col='box_file',\n",
    "                             label_col='cl',\n",
    "                             max_image_size=max_image_size,\n",
    "                             transform=val_transform,\n",
    "                             validate=True)"
   ]
  },
  {
   "cell_type": "markdown",
   "id": "e7fcd0da-cf40-4be0-89d8-ce31b7ce67d3",
   "metadata": {},
   "source": [
    "### Figure out the optimal learning rate ###\n",
    "Use the automatic learing rate finder in lightning to determine an initial learning rate"
   ]
  },
  {
   "cell_type": "code",
   "execution_count": 26,
   "id": "dd022a73-b7b9-45f5-8aaa-14fc6314aaa5",
   "metadata": {},
   "outputs": [],
   "source": [
    "# Model parameters and name\n",
    "seed = 234\n",
    "model_name = 'FancyLR'\n",
    "model_version = 1\n",
    "max_epochs = 20\n",
    "num_classes = 4\n",
    "num_workers = 1\n",
    "batch_size = 16\n",
    "initial_lr = 1.0e-3\n",
    "check_val_every_n_epoch = 1\n",
    "checkpoint_every_n_epoch = 2\n",
    "save_top_k = 3"
   ]
  },
  {
   "cell_type": "code",
   "execution_count": 27,
   "id": "b5dcb282-f6e9-4445-bc6e-b12f0ee2ca91",
   "metadata": {},
   "outputs": [],
   "source": [
    "# Create the model\n",
    "model = ToothModel(train_dataset=train_dataset,\n",
    "                   val_dataset=val_dataset,\n",
    "                   test_dataset=test_dataset,\n",
    "                   batch_size=batch_size,\n",
    "                   num_classes=num_classes,\n",
    "                   num_workers=num_workers,\n",
    "                   lr=initial_lr)\n",
    "\n",
    "# Setup logger\n",
    "logger = TensorBoardLogger(save_dir=model_dir,\n",
    "                           name=model_name,\n",
    "                           version=model_version)\n",
    "\n",
    "# Checkpoint callback\n",
    "chk_callback = ModelCheckpoint(dirpath=model_dir,\n",
    "                               filename='dentexmodel-{epoch}',\n",
    "                               monitor='val_loss',\n",
    "                               mode='min',\n",
    "                               save_last=True,\n",
    "                               every_n_epochs=checkpoint_every_n_epoch,\n",
    "                               save_on_train_epoch_end=True,\n",
    "                               save_top_k=save_top_k)"
   ]
  },
  {
   "cell_type": "code",
   "execution_count": 28,
   "id": "499f1a01-ef39-4805-881b-19c9c162ba4c",
   "metadata": {},
   "outputs": [],
   "source": [
    "lr_finder = FineTuneLearningRateFinder(milestones=(5, 10), \n",
    "                                       min_lr=1.0e-8,  \n",
    "                                       max_lr=0.01, \n",
    "                                       num_training_steps=100,\n",
    "                                       mode='exponential',\n",
    "                                       early_stop_threshold=None,\n",
    "                                       update_attr=True)\n",
    "\n",
    "lr_starter = LearningRateFinder(min_lr=1.0e-8,  \n",
    "                                max_lr=0.01, \n",
    "                                num_training_steps=300,\n",
    "                                mode='exponential',\n",
    "                                early_stop_threshold=None,\n",
    "                                update_attr=True)\n",
    "\n",
    "lr_monitor = LearningRateMonitor(logging_interval='epoch',\n",
    "                                 log_momentum=True)"
   ]
  },
  {
   "cell_type": "code",
   "execution_count": 29,
   "id": "329da104-3967-49ef-8ce8-dadfad30eb35",
   "metadata": {},
   "outputs": [
    {
     "name": "stderr",
     "output_type": "stream",
     "text": [
      "GPU available: True (cuda), used: True\n",
      "TPU available: False, using: 0 TPU cores\n",
      "IPU available: False, using: 0 IPUs\n",
      "HPU available: False, using: 0 HPUs\n",
      "/usr/local/lib/python3.10/dist-packages/lightning/pytorch/callbacks/model_checkpoint.py:652: Checkpoint directory /app/data/model exists and is not empty.\n",
      "LOCAL_RANK: 0 - CUDA_VISIBLE_DEVICES: [0]\n",
      "\n",
      "  | Name      | Type             | Params\n",
      "-----------------------------------------------\n",
      "0 | model     | ResNet           | 24.6 M\n",
      "1 | criterion | CrossEntropyLoss | 0     \n",
      "2 | metrics   | ModuleDict       | 0     \n",
      "-----------------------------------------------\n",
      "24.6 M    Trainable params\n",
      "0         Non-trainable params\n",
      "24.6 M    Total params\n",
      "98.237    Total estimated model params size (MB)\n"
     ]
    },
    {
     "data": {
      "application/vnd.jupyter.widget-view+json": {
       "model_id": "",
       "version_major": 2,
       "version_minor": 0
      },
      "text/plain": [
       "Sanity Checking: |          | 0/? [00:00<?, ?it/s]"
      ]
     },
     "metadata": {},
     "output_type": "display_data"
    },
    {
     "name": "stderr",
     "output_type": "stream",
     "text": [
      "/usr/local/lib/python3.10/dist-packages/lightning/pytorch/trainer/connectors/data_connector.py:441: The 'val_dataloader' does not have many workers which may be a bottleneck. Consider increasing the value of the `num_workers` argument` to `num_workers=15` in the `DataLoader` to improve performance.\n",
      "/usr/local/lib/python3.10/dist-packages/lightning/pytorch/trainer/connectors/data_connector.py:441: The 'train_dataloader' does not have many workers which may be a bottleneck. Consider increasing the value of the `num_workers` argument` to `num_workers=15` in the `DataLoader` to improve performance.\n"
     ]
    },
    {
     "data": {
      "application/vnd.jupyter.widget-view+json": {
       "model_id": "3bdc61fa4e24429dac63f8be812f9acf",
       "version_major": 2,
       "version_minor": 0
      },
      "text/plain": [
       "Training: |          | 0/? [00:00<?, ?it/s]"
      ]
     },
     "metadata": {},
     "output_type": "display_data"
    },
    {
     "data": {
      "application/vnd.jupyter.widget-view+json": {
       "model_id": "fb8a1220a9244d3dab50fe9f2a04cb64",
       "version_major": 2,
       "version_minor": 0
      },
      "text/plain": [
       "Finding best initial lr:   0%|          | 0/100 [00:00<?, ?it/s]"
      ]
     },
     "metadata": {},
     "output_type": "display_data"
    },
    {
     "name": "stderr",
     "output_type": "stream",
     "text": [
      "/usr/local/lib/python3.10/dist-packages/torchmetrics/utilities/prints.py:43: UserWarning: No positive samples in targets, true positive value should be meaningless. Returning zero tensor in true positive score\n",
      "  warnings.warn(*args, **kwargs)  # noqa: B028\n",
      "`Trainer.fit` stopped: `max_steps=100` reached.\n",
      "Learning rate set to 0.0016595869074375604\n",
      "Restoring states from the checkpoint path at /app/data/model/.lr_find_188f015a-7f5e-4612-bb3b-a8b125fcd626.ckpt\n",
      "Restored all states from the checkpoint at /app/data/model/.lr_find_188f015a-7f5e-4612-bb3b-a8b125fcd626.ckpt\n",
      "/usr/local/lib/python3.10/dist-packages/torchmetrics/utilities/prints.py:43: UserWarning: No positive samples in targets, true positive value should be meaningless. Returning zero tensor in true positive score\n",
      "  warnings.warn(*args, **kwargs)  # noqa: B028\n",
      "/usr/local/lib/python3.10/dist-packages/lightning/pytorch/trainer/connectors/data_connector.py:441: The 'val_dataloader' does not have many workers which may be a bottleneck. Consider increasing the value of the `num_workers` argument` to `num_workers=15` in the `DataLoader` to improve performance.\n"
     ]
    },
    {
     "data": {
      "application/vnd.jupyter.widget-view+json": {
       "model_id": "",
       "version_major": 2,
       "version_minor": 0
      },
      "text/plain": [
       "Validation: |          | 0/? [00:00<?, ?it/s]"
      ]
     },
     "metadata": {},
     "output_type": "display_data"
    },
    {
     "data": {
      "application/vnd.jupyter.widget-view+json": {
       "model_id": "",
       "version_major": 2,
       "version_minor": 0
      },
      "text/plain": [
       "Validation: |          | 0/? [00:00<?, ?it/s]"
      ]
     },
     "metadata": {},
     "output_type": "display_data"
    },
    {
     "data": {
      "application/vnd.jupyter.widget-view+json": {
       "model_id": "",
       "version_major": 2,
       "version_minor": 0
      },
      "text/plain": [
       "Validation: |          | 0/? [00:00<?, ?it/s]"
      ]
     },
     "metadata": {},
     "output_type": "display_data"
    },
    {
     "data": {
      "application/vnd.jupyter.widget-view+json": {
       "model_id": "",
       "version_major": 2,
       "version_minor": 0
      },
      "text/plain": [
       "Validation: |          | 0/? [00:00<?, ?it/s]"
      ]
     },
     "metadata": {},
     "output_type": "display_data"
    },
    {
     "name": "stderr",
     "output_type": "stream",
     "text": [
      "/usr/local/lib/python3.10/dist-packages/lightning/pytorch/loops/training_epoch_loop.py:156: You're resuming from a checkpoint that ended before the epoch ended. This can cause unreliable results if further training is done. Consider using an end-of-epoch checkpoint\n"
     ]
    },
    {
     "data": {
      "application/vnd.jupyter.widget-view+json": {
       "model_id": "310b96cb300a42edb677b69f36858f3a",
       "version_major": 2,
       "version_minor": 0
      },
      "text/plain": [
       "Finding best initial lr:   0%|          | 0/100 [00:00<?, ?it/s]"
      ]
     },
     "metadata": {},
     "output_type": "display_data"
    },
    {
     "name": "stderr",
     "output_type": "stream",
     "text": [
      "`Trainer.fit` stopped: `max_steps=1030` reached.\n",
      "Learning rate set to 0.0033113112148259126\n",
      "Restoring states from the checkpoint path at /app/data/model/.lr_find_cceb4714-d15a-43d1-887e-1c9c5d66d48a.ckpt\n",
      "Restored all states from the checkpoint at /app/data/model/.lr_find_cceb4714-d15a-43d1-887e-1c9c5d66d48a.ckpt\n",
      "/usr/local/lib/python3.10/dist-packages/torchmetrics/utilities/prints.py:43: UserWarning: No positive samples in targets, true positive value should be meaningless. Returning zero tensor in true positive score\n",
      "  warnings.warn(*args, **kwargs)  # noqa: B028\n",
      "/usr/local/lib/python3.10/dist-packages/lightning/pytorch/trainer/connectors/data_connector.py:441: The 'val_dataloader' does not have many workers which may be a bottleneck. Consider increasing the value of the `num_workers` argument` to `num_workers=15` in the `DataLoader` to improve performance.\n"
     ]
    },
    {
     "data": {
      "application/vnd.jupyter.widget-view+json": {
       "model_id": "",
       "version_major": 2,
       "version_minor": 0
      },
      "text/plain": [
       "Validation: |          | 0/? [00:00<?, ?it/s]"
      ]
     },
     "metadata": {},
     "output_type": "display_data"
    },
    {
     "data": {
      "application/vnd.jupyter.widget-view+json": {
       "model_id": "",
       "version_major": 2,
       "version_minor": 0
      },
      "text/plain": [
       "Validation: |          | 0/? [00:00<?, ?it/s]"
      ]
     },
     "metadata": {},
     "output_type": "display_data"
    },
    {
     "name": "stderr",
     "output_type": "stream",
     "text": [
      "/usr/local/lib/python3.10/dist-packages/torchmetrics/utilities/prints.py:43: UserWarning: No negative samples in targets, false positive value should be meaningless. Returning zero tensor in false positive score\n",
      "  warnings.warn(*args, **kwargs)  # noqa: B028\n"
     ]
    },
    {
     "data": {
      "application/vnd.jupyter.widget-view+json": {
       "model_id": "",
       "version_major": 2,
       "version_minor": 0
      },
      "text/plain": [
       "Validation: |          | 0/? [00:00<?, ?it/s]"
      ]
     },
     "metadata": {},
     "output_type": "display_data"
    },
    {
     "data": {
      "application/vnd.jupyter.widget-view+json": {
       "model_id": "",
       "version_major": 2,
       "version_minor": 0
      },
      "text/plain": [
       "Validation: |          | 0/? [00:00<?, ?it/s]"
      ]
     },
     "metadata": {},
     "output_type": "display_data"
    },
    {
     "data": {
      "application/vnd.jupyter.widget-view+json": {
       "model_id": "",
       "version_major": 2,
       "version_minor": 0
      },
      "text/plain": [
       "Validation: |          | 0/? [00:00<?, ?it/s]"
      ]
     },
     "metadata": {},
     "output_type": "display_data"
    },
    {
     "name": "stderr",
     "output_type": "stream",
     "text": [
      "/usr/local/lib/python3.10/dist-packages/lightning/pytorch/loops/training_epoch_loop.py:156: You're resuming from a checkpoint that ended before the epoch ended. This can cause unreliable results if further training is done. Consider using an end-of-epoch checkpoint\n"
     ]
    },
    {
     "data": {
      "application/vnd.jupyter.widget-view+json": {
       "model_id": "96af45d093b54340ad1013063b7184dc",
       "version_major": 2,
       "version_minor": 0
      },
      "text/plain": [
       "Finding best initial lr:   0%|          | 0/100 [00:00<?, ?it/s]"
      ]
     },
     "metadata": {},
     "output_type": "display_data"
    },
    {
     "name": "stderr",
     "output_type": "stream",
     "text": [
      "`Trainer.fit` stopped: `max_steps=2060` reached.\n",
      "Learning rate set to 0.0014454397707459273\n",
      "Restoring states from the checkpoint path at /app/data/model/.lr_find_b647a05d-d14c-419c-bd06-9086463ba331.ckpt\n",
      "Restored all states from the checkpoint at /app/data/model/.lr_find_b647a05d-d14c-419c-bd06-9086463ba331.ckpt\n",
      "/usr/local/lib/python3.10/dist-packages/torchmetrics/utilities/prints.py:43: UserWarning: No positive samples in targets, true positive value should be meaningless. Returning zero tensor in true positive score\n",
      "  warnings.warn(*args, **kwargs)  # noqa: B028\n",
      "/usr/local/lib/python3.10/dist-packages/lightning/pytorch/trainer/connectors/data_connector.py:441: The 'val_dataloader' does not have many workers which may be a bottleneck. Consider increasing the value of the `num_workers` argument` to `num_workers=15` in the `DataLoader` to improve performance.\n"
     ]
    },
    {
     "data": {
      "application/vnd.jupyter.widget-view+json": {
       "model_id": "",
       "version_major": 2,
       "version_minor": 0
      },
      "text/plain": [
       "Validation: |          | 0/? [00:00<?, ?it/s]"
      ]
     },
     "metadata": {},
     "output_type": "display_data"
    },
    {
     "name": "stderr",
     "output_type": "stream",
     "text": [
      "/usr/local/lib/python3.10/dist-packages/torchmetrics/utilities/prints.py:43: UserWarning: No negative samples in targets, false positive value should be meaningless. Returning zero tensor in false positive score\n",
      "  warnings.warn(*args, **kwargs)  # noqa: B028\n"
     ]
    },
    {
     "data": {
      "application/vnd.jupyter.widget-view+json": {
       "model_id": "",
       "version_major": 2,
       "version_minor": 0
      },
      "text/plain": [
       "Validation: |          | 0/? [00:00<?, ?it/s]"
      ]
     },
     "metadata": {},
     "output_type": "display_data"
    },
    {
     "data": {
      "application/vnd.jupyter.widget-view+json": {
       "model_id": "",
       "version_major": 2,
       "version_minor": 0
      },
      "text/plain": [
       "Validation: |          | 0/? [00:00<?, ?it/s]"
      ]
     },
     "metadata": {},
     "output_type": "display_data"
    },
    {
     "data": {
      "application/vnd.jupyter.widget-view+json": {
       "model_id": "",
       "version_major": 2,
       "version_minor": 0
      },
      "text/plain": [
       "Validation: |          | 0/? [00:00<?, ?it/s]"
      ]
     },
     "metadata": {},
     "output_type": "display_data"
    },
    {
     "data": {
      "application/vnd.jupyter.widget-view+json": {
       "model_id": "",
       "version_major": 2,
       "version_minor": 0
      },
      "text/plain": [
       "Validation: |          | 0/? [00:00<?, ?it/s]"
      ]
     },
     "metadata": {},
     "output_type": "display_data"
    },
    {
     "data": {
      "application/vnd.jupyter.widget-view+json": {
       "model_id": "",
       "version_major": 2,
       "version_minor": 0
      },
      "text/plain": [
       "Validation: |          | 0/? [00:00<?, ?it/s]"
      ]
     },
     "metadata": {},
     "output_type": "display_data"
    },
    {
     "name": "stderr",
     "output_type": "stream",
     "text": [
      "/usr/local/lib/python3.10/dist-packages/lightning/pytorch/trainer/call.py:54: Detected KeyboardInterrupt, attempting graceful shutdown...\n"
     ]
    }
   ],
   "source": [
    "tr = Trainer(max_epochs=max_epochs,\n",
    "             default_root_dir=model_dir,\n",
    "             callbacks=[chk_callback, lr_finder, lr_monitor],\n",
    "             logger=logger,\n",
    "             check_val_every_n_epoch=check_val_every_n_epoch)\n",
    "\n",
    "tr.fit(model)"
   ]
  }
 ],
 "metadata": {
  "kernelspec": {
   "display_name": "Python 3 (ipykernel)",
   "language": "python",
   "name": "python3"
  },
  "language_info": {
   "codemirror_mode": {
    "name": "ipython",
    "version": 3
   },
   "file_extension": ".py",
   "mimetype": "text/x-python",
   "name": "python",
   "nbconvert_exporter": "python",
   "pygments_lexer": "ipython3",
   "version": "3.10.12"
  }
 },
 "nbformat": 4,
 "nbformat_minor": 5
}
