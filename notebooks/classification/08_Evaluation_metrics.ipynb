{
 "cells": [
  {
   "cell_type": "markdown",
   "id": "ebc52caa-e5ff-42ad-9bb6-84891f453249",
   "metadata": {},
   "source": [
    "## Performance Metrics and Logging ##\n",
    "Logging of performance metrics during training an evaluation"
   ]
  },
  {
   "cell_type": "code",
   "execution_count": 1,
   "id": "146bbe69-a3c4-430d-a5f8-74fa54188d44",
   "metadata": {},
   "outputs": [
    {
     "data": {
      "text/html": [
       "<style>.container { width:100% !important; }</style>"
      ],
      "text/plain": [
       "<IPython.core.display.HTML object>"
      ]
     },
     "metadata": {},
     "output_type": "display_data"
    },
    {
     "name": "stdout",
     "output_type": "stream",
     "text": [
      "dentexmodel package version:  0.0.post1.dev101+g9852c2c\n"
     ]
    }
   ],
   "source": [
    "# Imports\n",
    "import os\n",
    "from pathlib import Path\n",
    "import numpy as np\n",
    "import pandas as pd\n",
    "import cv2\n",
    "import glob\n",
    "\n",
    "# Matplotlib for plotting\n",
    "from matplotlib import pyplot as plt\n",
    "from matplotlib.pyplot import cm\n",
    "\n",
    "# PyTorch packages\n",
    "import torch\n",
    "import torch.nn as nn\n",
    "import lightning.pytorch as pl\n",
    "from lightning.pytorch import Trainer, seed_everything\n",
    "from lightning.pytorch.callbacks import ModelCheckpoint\n",
    "import torchmetrics\n",
    "\n",
    "# Albumentations library\n",
    "import albumentations as alb\n",
    "\n",
    "# Appearance of the Notebook\n",
    "from IPython.display import display, HTML\n",
    "display(HTML(\"<style>.container { width:100% !important; }</style>\"))\n",
    "np.set_printoptions(linewidth=110)\n",
    "pd.set_option('display.max_rows', 500)\n",
    "pd.set_option('display.max_columns', 100)\n",
    "pd.set_option('display.width', 1000)\n",
    "\n",
    "# Import this module with autoreload\n",
    "%load_ext autoreload\n",
    "%autoreload 2\n",
    "import dentexmodel as dm\n",
    "from dentexmodel.fileutils import FileOP\n",
    "from dentexmodel.imageproc import ImageData\n",
    "from dentexmodel.torchdataset import DatasetFromDF, load_and_process_image\n",
    "print(f'dentexmodel package version:  {dm.__version__}')"
   ]
  },
  {
   "cell_type": "code",
   "execution_count": 2,
   "id": "fb742ac6-b8be-4342-97cc-b91acf1e3805",
   "metadata": {},
   "outputs": [],
   "source": [
    "# Path settings \n",
    "dentex_dir = os.path.join(os.environ['HOME'], 'data', 'dentex')\n",
    "data_dir = os.path.join(dentex_dir, 'dentex_classification')\n",
    "image_dir = os.path.join(data_dir, 'quadrant-enumeration-disease', 'xrays', 'crop')\n",
    "data_file_name = 'dentex_disease_datasplit.parquet'\n",
    "data_file = os.path.join(dentex_dir, data_file_name)"
   ]
  },
  {
   "cell_type": "code",
   "execution_count": 3,
   "id": "bac1fb7a-5c4b-48e9-b964-77bca51834b3",
   "metadata": {},
   "outputs": [
    {
     "name": "stdout",
     "output_type": "stream",
     "text": [
      "CUDA available: False\n",
      "Number of GPUs found:  0\n"
     ]
    }
   ],
   "source": [
    "# %% Package and GPU checks\n",
    "# GPU checks\n",
    "device = torch.device(\"cuda:0\") if torch.cuda.is_available() else torch.device(\"cpu\")\n",
    "is_cuda = torch.cuda.is_available()\n",
    "print(f'CUDA available: {is_cuda}')\n",
    "print(f'Number of GPUs found:  {torch.cuda.device_count()}')\n",
    "if is_cuda:\n",
    "    print(f'Current device ID:     {torch.cuda.current_device()}')\n",
    "    print(f'GPU device name:       {torch.cuda.get_device_name(0)}')\n",
    "    print(f'CUDNN version:         {torch.backends.cudnn.version()}')"
   ]
  },
  {
   "cell_type": "markdown",
   "id": "d7358557-53d8-4d69-b694-55c406c0f47f",
   "metadata": {},
   "source": [
    "### Create PyTorch datasets from data frame ###"
   ]
  },
  {
   "cell_type": "code",
   "execution_count": 4,
   "id": "64692d68-33f9-4a65-a937-6fa485594f55",
   "metadata": {},
   "outputs": [
    {
     "data": {
      "text/plain": [
       "Caries               1\n",
       "Deep Caries          3\n",
       "Impacted             0\n",
       "Periapical Lesion    2\n",
       "Name: 0, dtype: int64"
      ]
     },
     "metadata": {},
     "output_type": "display_data"
    }
   ],
   "source": [
    "data_df = pd.read_parquet(data_file)\n",
    "# Convert class names to labels\n",
    "cl_names = sorted(list(data_df['label'].unique()))\n",
    "# Get the class labels\n",
    "cl_numbers = [data_df.loc[data_df['label'] == label, 'cl'].values[0] for label in cl_names]\n",
    "label_dict = dict(zip(cl_names, cl_numbers))\n",
    "cl_dict = dict(zip(cl_numbers, cl_names))\n",
    "# Show the class labels\n",
    "display(pd.DataFrame(label_dict, index=[0]).iloc[0])"
   ]
  },
  {
   "cell_type": "code",
   "execution_count": 5,
   "id": "c0af688f-9c27-4227-8374-06643a7c49a5",
   "metadata": {},
   "outputs": [
    {
     "name": "stdout",
     "output_type": "stream",
     "text": [
      "Found 3289 samples in the training set.\n",
      "Found 120 samples in the validation set.\n",
      "Found 120 samples in the test set.\n",
      "\n"
     ]
    }
   ],
   "source": [
    "# Select the samples for training, validation and testing from our data frame\n",
    "train_df = data_df.loc[data_df['dataset']=='train']\n",
    "val_df = data_df.loc[data_df['dataset']=='val']\n",
    "test_df = data_df.loc[data_df['dataset']=='test']\n",
    "\n",
    "train_samples = sorted(list(train_df['box_name'].unique()))\n",
    "print(f'Found {len(train_samples)} samples in the training set.')\n",
    "val_samples = sorted(list(val_df['box_name'].unique()))\n",
    "print(f'Found {len(val_samples)} samples in the validation set.')\n",
    "test_samples = sorted(list(test_df['box_name'].unique()))\n",
    "print(f'Found {len(test_samples)} samples in the test set.')\n",
    "print()"
   ]
  },
  {
   "cell_type": "code",
   "execution_count": 6,
   "id": "b366254d-a33b-4779-855a-48242cf1f6cc",
   "metadata": {},
   "outputs": [],
   "source": [
    "# Augmentations\n",
    "# Image augmentations is part of the PyTorch dataset\n",
    "\n",
    "# The output of this transformation must match the required input size for the model\n",
    "max_image_size = 550\n",
    "im_size = 224\n",
    "\n",
    "# Definition of the image augmentations for the training set\n",
    "train_transform = alb.Compose([\n",
    "    alb.Resize(im_size + 32, im_size + 32),\n",
    "    alb.RandomCrop(im_size, im_size),\n",
    "    alb.HorizontalFlip(),\n",
    "    alb.ShiftScaleRotate(),\n",
    "    alb.Blur(),\n",
    "    alb.RandomGamma(),\n",
    "    alb.Sharpen(),\n",
    "    alb.GaussNoise(),\n",
    "    alb.CoarseDropout(16, 32, 32),\n",
    "    alb.CLAHE(),\n",
    "    alb.Normalize(mean=ImageData().image_net_mean, \n",
    "                  std=ImageData().image_net_std)])\n",
    "\n",
    "# For validation and testing, we do not want any augmentations\n",
    "# but we will still need the correct input size and image normalization\n",
    "val_transform = alb.Compose([\n",
    "    alb.Resize(im_size, im_size),\n",
    "    alb.Normalize(mean=ImageData().image_net_mean, \n",
    "                  std=ImageData().image_net_std)])"
   ]
  },
  {
   "cell_type": "code",
   "execution_count": 7,
   "id": "5edc6ffb-c54a-41ab-b899-20190b777ea8",
   "metadata": {},
   "outputs": [],
   "source": [
    "# Create the data sets from the data frame\n",
    "train_dataset = DatasetFromDF(data=train_df,\n",
    "                              file_col='box_file',\n",
    "                              label_col='cl',\n",
    "                              max_image_size=max_image_size,\n",
    "                              transform=train_transform,\n",
    "                              validate=True)\n",
    "\n",
    "val_dataset = DatasetFromDF(data=val_df,\n",
    "                            file_col='box_file',\n",
    "                            label_col='cl',\n",
    "                            max_image_size=max_image_size,\n",
    "                            transform=val_transform,\n",
    "                            validate=True)\n",
    "\n",
    "test_dataset = DatasetFromDF(data=test_df,\n",
    "                             file_col='box_file',\n",
    "                             label_col='cl',\n",
    "                             max_image_size=max_image_size,\n",
    "                             transform=val_transform,\n",
    "                             validate=True)"
   ]
  },
  {
   "cell_type": "markdown",
   "id": "edc85351-1c32-4eb6-b3dc-291c92bf2d56",
   "metadata": {},
   "source": [
    "### Load model from checkpoint ###"
   ]
  },
  {
   "cell_type": "code",
   "execution_count": 9,
   "id": "32b2c636-8454-4a32-aafe-33152588017b",
   "metadata": {},
   "outputs": [
    {
     "name": "stderr",
     "output_type": "stream",
     "text": [
      "toothmodel_fancy_40.ckpt: 297MB [00:16, 18.5MB/s]                              \n",
      "File extension is unexpected .ckpt.\n"
     ]
    },
    {
     "name": "stdout",
     "output_type": "stream",
     "text": [
      "File: .ckpt loaded.\n"
     ]
    }
   ],
   "source": [
    "from dentexmodel.models.toothmodel_fancy import ToothModel\n",
    "link = 'https://dsets.s3.amazonaws.com/dentex/toothmodel_fancy_40.ckpt'\n",
    "checkpoint_file = FileOP().download_from_url(url=link, download_dir=dentex_dir)"
   ]
  },
  {
   "cell_type": "code",
   "execution_count": 11,
   "id": "32612ccb-306e-44a5-97da-b4b064e15367",
   "metadata": {},
   "outputs": [],
   "source": [
    "model = ToothModel.load_from_checkpoint(checkpoint_file,\n",
    "                                        test_dataset=test_dataset, \n",
    "                                        map_location=device,\n",
    "                                        batch_size = 16,\n",
    "                                        num_classes = 4,\n",
    "                                        num_workers= 1)"
   ]
  },
  {
   "cell_type": "code",
   "execution_count": 12,
   "id": "3d9b3e30-cc88-46e2-ba82-49112c2321fe",
   "metadata": {},
   "outputs": [
    {
     "data": {
      "text/plain": [
       "torch.Size([16, 3, 224, 224])"
      ]
     },
     "metadata": {},
     "output_type": "display_data"
    },
    {
     "data": {
      "text/plain": [
       "torch.Size([16])"
      ]
     },
     "metadata": {},
     "output_type": "display_data"
    }
   ],
   "source": [
    "# We try the metrics with a trained model\n",
    "\n",
    "# Load a test batch\n",
    "dl = model.test_dataloader()\n",
    "test_image_batch, test_label_batch = next(iter(dl))\n",
    "display(test_image_batch.shape)\n",
    "display(test_label_batch.shape)\n",
    "\n",
    "# Forward - pass on the test batch\n",
    "pred = model(test_image_batch.to(device))\n",
    "#pred = model(test_image_batch.cuda())"
   ]
  },
  {
   "cell_type": "markdown",
   "id": "6c738675-5645-40cf-91b9-890d4c8f2a5e",
   "metadata": {},
   "source": [
    "### Performance metrics: sklearn.metrics library ###\n",
    "Here is a good description of performance metrics for multi-class classification\n",
    "https://www.evidentlyai.com/classification-metrics/multi-class-metrics"
   ]
  },
  {
   "cell_type": "code",
   "execution_count": 13,
   "id": "c184dcf7-31c5-46e4-ba3c-6ef9872fa786",
   "metadata": {},
   "outputs": [
    {
     "data": {
      "text/plain": [
       "array([1, 2, 1, 2, 2, 0, 0, 0, 0, 3, 2, 3, 1, 0, 1, 3])"
      ]
     },
     "metadata": {},
     "output_type": "display_data"
    },
    {
     "data": {
      "text/plain": [
       "array([3, 0, 3, 0, 0, 2, 2, 1, 2, 2, 0, 2, 3, 2, 3, 2])"
      ]
     },
     "metadata": {},
     "output_type": "display_data"
    },
    {
     "name": "stdout",
     "output_type": "stream",
     "text": [
      "The accuracy should be 0.6875\n",
      "\n",
      "Accuracy: 0.0\n",
      "Precision:0.0\n",
      "Recall:   0.0\n",
      "F1:       0.0\n",
      "AUC:      0.3095734126984127\n"
     ]
    }
   ],
   "source": [
    "# sklearn method for accuracy\n",
    "pred_cl = torch.argmax(pred, dim=1).detach().cpu().numpy()\n",
    "true_cl = test_label_batch.numpy()\n",
    "# From seeing this, the accuracy should be as shown\n",
    "display(pred_cl)\n",
    "display(true_cl)\n",
    "print(f'The accuracy should be {11/16}')\n",
    "print()\n",
    "\n",
    "# Accuracy\n",
    "from sklearn.metrics import accuracy_score\n",
    "sk_acc = accuracy_score(y_true=true_cl, y_pred=pred_cl)\n",
    "print(f'Accuracy: {sk_acc}')\n",
    "\n",
    "# Precision\n",
    "from sklearn.metrics import precision_score\n",
    "sk_prec = precision_score(y_true=true_cl, y_pred=pred_cl, average='macro')\n",
    "print(f'Precision:{sk_prec}')\n",
    "\n",
    "# Recall\n",
    "from sklearn.metrics import recall_score\n",
    "sk_rec = recall_score(y_true=true_cl, y_pred=pred_cl, average='macro')\n",
    "print(f'Recall:   {sk_rec}')\n",
    "\n",
    "# F1 score\n",
    "from sklearn.metrics import f1_score\n",
    "sk_f1 = f1_score(y_true=true_cl, y_pred=pred_cl, average='macro')\n",
    "print(f'F1:       {sk_f1}')\n",
    "\n",
    "# AUC score\n",
    "from sklearn.metrics import roc_auc_score\n",
    "# For this, we need probability estimates for each class\n",
    "sm = nn.Softmax(dim=1)\n",
    "pred_cl_score = sm(pred).detach().cpu().numpy()\n",
    "sk_auc = roc_auc_score(y_true=true_cl, y_score=pred_cl_score, average='macro', multi_class='ovr')\n",
    "print(f'AUC:      {sk_auc}')"
   ]
  },
  {
   "cell_type": "markdown",
   "id": "ade4b7cd-a405-41e5-b5ee-6bd61820f85f",
   "metadata": {},
   "source": [
    "### Performance metrics: torchmetrics.classification library ###"
   ]
  },
  {
   "cell_type": "code",
   "execution_count": 14,
   "id": "7249fe99-4e54-45a6-af42-4cb37fcebaaf",
   "metadata": {},
   "outputs": [
    {
     "data": {
      "text/plain": [
       "tensor([3, 0, 3, 0, 0, 2, 2, 1, 2, 2, 0, 2, 3, 2, 3, 2])"
      ]
     },
     "metadata": {},
     "output_type": "display_data"
    },
    {
     "data": {
      "text/plain": [
       "tensor([1, 2, 1, 2, 2, 0, 0, 0, 0, 3, 2, 3, 1, 0, 1, 3])"
      ]
     },
     "metadata": {},
     "output_type": "display_data"
    },
    {
     "name": "stdout",
     "output_type": "stream",
     "text": [
      "\n",
      "Accuracy: 0.0\n",
      "Precision:0.0\n",
      "Recall:    0.0\n",
      "F1:        0.0\n",
      "AUC:       0.3095734119415283\n"
     ]
    }
   ],
   "source": [
    "true_cl = test_label_batch.to(device)\n",
    "display(true_cl)\n",
    "# Probability estimates for each class\n",
    "sm = nn.Softmax(dim=1)\n",
    "pred_cl_score = sm(pred)\n",
    "pred_cl = torch.argmax(pred_cl_score, dim=1)\n",
    "display(pred_cl)\n",
    "print()\n",
    "\n",
    "# Accuracy\n",
    "from torchmetrics.classification import MulticlassAccuracy\n",
    "acc = MulticlassAccuracy(num_classes=4, average='micro').to(device)\n",
    "tm_acc = acc(preds=pred_cl_score, target=true_cl)\n",
    "print(f'Accuracy: {tm_acc}')\n",
    "\n",
    "# Precision\n",
    "from torchmetrics.classification import MulticlassPrecision\n",
    "prec = MulticlassPrecision(num_classes=4, average='macro').to(device)\n",
    "tm_prec = prec(preds=pred_cl_score, target=true_cl)\n",
    "print(f'Precision:{tm_prec}')\n",
    "\n",
    "# Recall\n",
    "from torchmetrics.classification import MulticlassRecall\n",
    "rec = MulticlassRecall(num_classes=4, average='macro').to(device)\n",
    "tm_rec = rec(preds=pred_cl_score, target=true_cl)\n",
    "print(f'Recall:    {tm_rec}')  \n",
    "\n",
    "# F1\n",
    "from torchmetrics.classification import MulticlassF1Score\n",
    "f1 = MulticlassF1Score(num_classes=4, average='macro').to(device)\n",
    "tm_f1 = f1(preds=pred_cl_score, target=true_cl)\n",
    "print(f'F1:        {tm_f1}')\n",
    "\n",
    "# AUC\n",
    "from torchmetrics.classification import MulticlassAUROC\n",
    "auc = MulticlassAUROC(num_classes=4, average='macro').to(device)\n",
    "tm_auc = auc(preds=pred_cl_score, target=true_cl)\n",
    "print(f'AUC:       {tm_auc}')"
   ]
  },
  {
   "cell_type": "code",
   "execution_count": 15,
   "id": "5f136f48-dd6e-4dda-9742-879b76baeab8",
   "metadata": {},
   "outputs": [
    {
     "data": {
      "text/plain": [
       "[{'train_acc': tensor(0.), 'train_prec': tensor(0.)},\n",
       " {'train_acc': tensor(0.1000), 'train_prec': tensor(0.1000)}]"
      ]
     },
     "metadata": {},
     "output_type": "display_data"
    }
   ],
   "source": [
    "test_dict = nn.ModuleDict()\n",
    "\n",
    "metric_dict = nn.ModuleDict({'acc': MulticlassAccuracy(num_classes=4, average='micro').to(device),\n",
    "                             'prec': MulticlassPrecision(num_classes=4, average='macro').to(device)})\n",
    "\n",
    "metric_prefix = 'train'\n",
    "preds = sm(pred)\n",
    "target = true_cl\n",
    "\n",
    "performance_dict_1 = {}\n",
    "for metric_name, metric in metric_dict.items():\n",
    "    performance_dict_1.update({f'{metric_prefix}_{metric_name}': metric(preds=preds, target=target)})\n",
    "\n",
    "performance_dict_2 = {}\n",
    "for metric_name, metric in metric_dict.items():\n",
    "    performance_dict_2.update({f'{metric_prefix}_{metric_name}': metric(preds=preds, target=target)+0.1})\n",
    "\n",
    "performance_list = [performance_dict_1, performance_dict_2]\n",
    "display(performance_list)"
   ]
  },
  {
   "cell_type": "code",
   "execution_count": 16,
   "id": "b3ed2a6c-07e0-4caa-aa5d-b7544a7e4922",
   "metadata": {},
   "outputs": [
    {
     "name": "stdout",
     "output_type": "stream",
     "text": [
      "['train_acc', 'train_prec']\n",
      "train_acc\n",
      "{'train_acc': 0.05, 'train_prec': 0.05}\n"
     ]
    }
   ],
   "source": [
    "# Now, we have to average the tensors in the dictionaries\n",
    "key_list = list(performance_list[0].keys())\n",
    "print(key_list)\n",
    "key = key_list[0]\n",
    "print(key)\n",
    "\n",
    "epoch_performance_dict = {}\n",
    "for metric_name in key_list:\n",
    "    m = torch.stack([x.get(metric_name) for x in performance_list])\n",
    "    n = m.mean().detach().cpu().numpy().round(2)\n",
    "    epoch_performance_dict.update({metric_name: n})\n",
    "\n",
    "print(epoch_performance_dict)"
   ]
  }
 ],
 "metadata": {
  "kernelspec": {
   "display_name": "Python 3 (ipykernel)",
   "language": "python",
   "name": "python3"
  },
  "language_info": {
   "codemirror_mode": {
    "name": "ipython",
    "version": 3
   },
   "file_extension": ".py",
   "mimetype": "text/x-python",
   "name": "python",
   "nbconvert_exporter": "python",
   "pygments_lexer": "ipython3",
   "version": "3.10.12"
  }
 },
 "nbformat": 4,
 "nbformat_minor": 5
}
