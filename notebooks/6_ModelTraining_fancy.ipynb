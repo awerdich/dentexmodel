{
 "cells": [
  {
   "cell_type": "markdown",
   "id": "ebc52caa-e5ff-42ad-9bb6-84891f453249",
   "metadata": {},
   "source": [
    "## Notebook 6: fancy model with performance metrics ##"
   ]
  },
  {
   "cell_type": "code",
   "execution_count": 1,
   "id": "146bbe69-a3c4-430d-a5f8-74fa54188d44",
   "metadata": {},
   "outputs": [
    {
     "data": {
      "text/html": [
       "<style>.container { width:100% !important; }</style>"
      ],
      "text/plain": [
       "<IPython.core.display.HTML object>"
      ]
     },
     "metadata": {},
     "output_type": "display_data"
    },
    {
     "name": "stdout",
     "output_type": "stream",
     "text": [
      "dentexmodel package version:  0.0.post1.dev36+gb44e647.d20240101\n"
     ]
    }
   ],
   "source": [
    "# Imports\n",
    "import os\n",
    "from pathlib import Path\n",
    "import numpy as np\n",
    "import pandas as pd\n",
    "import cv2\n",
    "import glob\n",
    "\n",
    "# Matplotlib for plotting\n",
    "from matplotlib import pyplot as plt\n",
    "from matplotlib.pyplot import cm\n",
    "\n",
    "# PyTorch packages\n",
    "import torch\n",
    "import torch.nn as nn\n",
    "import lightning.pytorch as pl\n",
    "from lightning.pytorch import Trainer, seed_everything\n",
    "from lightning.pytorch.callbacks import ModelCheckpoint\n",
    "import torchmetrics\n",
    "\n",
    "# Albumentations library\n",
    "import albumentations as alb\n",
    "\n",
    "# Appearance of the Notebook\n",
    "from IPython.display import display, HTML\n",
    "display(HTML(\"<style>.container { width:100% !important; }</style>\"))\n",
    "np.set_printoptions(linewidth=110)\n",
    "pd.set_option('display.max_rows', 500)\n",
    "pd.set_option('display.max_columns', 100)\n",
    "pd.set_option('display.width', 1000)\n",
    "\n",
    "# Import this module with autoreload\n",
    "%load_ext autoreload\n",
    "%autoreload 2\n",
    "import dentexmodel as dm\n",
    "from dentexmodel.fileutils import FileOP\n",
    "from dentexmodel.imageproc import ImageData\n",
    "from dentexmodel.torchdataset import DatasetFromDF, load_and_process_image\n",
    "print(f'dentexmodel package version:  {dm.__version__}')"
   ]
  },
  {
   "cell_type": "code",
   "execution_count": 2,
   "id": "fb742ac6-b8be-4342-97cc-b91acf1e3805",
   "metadata": {},
   "outputs": [],
   "source": [
    "# Path settings \n",
    "dentex_dir = os.path.join(os.environ['HOME'], 'data', 'dentex')\n",
    "data_dir = os.path.join(dentex_dir, 'dentex_disease')\n",
    "image_dir = os.path.join(data_dir, 'quadrant-enumeration-disease', 'xrays', 'crop')\n",
    "data_file_name = 'dentex_disease_datasplit.parquet'\n",
    "data_file = os.path.join(dentex_dir, data_file_name)"
   ]
  },
  {
   "cell_type": "code",
   "execution_count": 3,
   "id": "bac1fb7a-5c4b-48e9-b964-77bca51834b3",
   "metadata": {},
   "outputs": [
    {
     "name": "stdout",
     "output_type": "stream",
     "text": [
      "PyTorch version:              2.1.2+cu121\n",
      "PyTorch Lightning version:    2.1.3\n",
      "True\n",
      "Number of GPUs found:  1\n",
      "Current device ID:     0\n",
      "GPU device name:       NVIDIA GeForce RTX 3060 Laptop GPU\n",
      "CUDNN version:         8902\n"
     ]
    }
   ],
   "source": [
    "# %% Package and GPU checks\n",
    "print(f'PyTorch version:              {torch.__version__}')\n",
    "print(f'PyTorch Lightning version:    {pl.__version__}')\n",
    "device = torch.device(\"cuda:0\") if torch.cuda.is_available() else torch.device(\"cpu\")\n",
    "print(torch.cuda.is_available())\n",
    "print(f'Number of GPUs found:  {torch.cuda.device_count()}')\n",
    "print(f'Current device ID:     {torch.cuda.current_device()}')\n",
    "print(f'GPU device name:       {torch.cuda.get_device_name(0)}')\n",
    "print(f'CUDNN version:         {torch.backends.cudnn.version()}')\n",
    "torch.set_float32_matmul_precision(precision='high')"
   ]
  },
  {
   "cell_type": "markdown",
   "id": "d7358557-53d8-4d69-b694-55c406c0f47f",
   "metadata": {},
   "source": [
    "### Create PyTorch datasets from data frame ###"
   ]
  },
  {
   "cell_type": "code",
   "execution_count": 4,
   "id": "64692d68-33f9-4a65-a937-6fa485594f55",
   "metadata": {},
   "outputs": [
    {
     "data": {
      "text/plain": [
       "Caries               0\n",
       "Deep Caries          1\n",
       "Impacted             2\n",
       "Periapical Lesion    3\n",
       "Name: 0, dtype: int64"
      ]
     },
     "metadata": {},
     "output_type": "display_data"
    }
   ],
   "source": [
    "data_df = pd.read_parquet(data_file)\n",
    "# Convert class names to labels\n",
    "cl_names = sorted(list(data_df['label'].unique()))\n",
    "# Let's assign number to the classes\n",
    "label_dict = dict(zip(cl_names, range(len(cl_names))))\n",
    "cl_dict = dict(zip(label_dict.values(), label_dict.keys()))\n",
    "\n",
    "# Add the class labels to the data frame\n",
    "seed = np.random.seed(123)\n",
    "data_df = data_df.\\\n",
    "                assign(cl=data_df['label'].apply(lambda l: label_dict.get(l))).\\\n",
    "                sample(frac=1, random_state=seed).\\\n",
    "                reset_index(drop=True)\n",
    "\n",
    "# Show the class labels\n",
    "display(pd.DataFrame(label_dict, index=[0]).iloc[0])\n",
    "\n",
    "# Save the data frame with the class labels\n",
    "data_file_name_cl = 'dentex_disease_datasplit_cl.parquet'\n",
    "data_file = os.path.join(dentex_dir, data_file_name_cl)\n",
    "data_df.to_parquet(data_file)"
   ]
  },
  {
   "cell_type": "code",
   "execution_count": 5,
   "id": "c0af688f-9c27-4227-8374-06643a7c49a5",
   "metadata": {},
   "outputs": [
    {
     "name": "stdout",
     "output_type": "stream",
     "text": [
      "Found 3349 samples in the training set.\n",
      "Found 60 samples in the validation set.\n",
      "Found 120 samples in the test set.\n",
      "\n"
     ]
    }
   ],
   "source": [
    "# Select the samples for training, validation and testing from our data frame\n",
    "train_df = data_df.loc[data_df['dataset']=='train']\n",
    "val_df = data_df.loc[data_df['dataset']=='val']\n",
    "test_df = data_df.loc[data_df['dataset']=='test']\n",
    "\n",
    "train_samples = sorted(list(train_df['box_name'].unique()))\n",
    "print(f'Found {len(train_samples)} samples in the training set.')\n",
    "val_samples = sorted(list(val_df['box_name'].unique()))\n",
    "print(f'Found {len(val_samples)} samples in the validation set.')\n",
    "test_samples = sorted(list(test_df['box_name'].unique()))\n",
    "print(f'Found {len(test_samples)} samples in the test set.')\n",
    "print()"
   ]
  },
  {
   "cell_type": "code",
   "execution_count": 6,
   "id": "b366254d-a33b-4779-855a-48242cf1f6cc",
   "metadata": {},
   "outputs": [],
   "source": [
    "# Augmentations\n",
    "# Image augmentations is part of the PyTorch dataset\n",
    "\n",
    "# The output of this transformation must match the required input size for the model\n",
    "max_image_size = 550\n",
    "im_size = 224\n",
    "\n",
    "# Definition of the image augmentations for the training set\n",
    "train_transform = alb.Compose([\n",
    "    alb.Resize(im_size + 32, im_size + 32),\n",
    "    alb.RandomCrop(im_size, im_size),\n",
    "    alb.HorizontalFlip(),\n",
    "    alb.ShiftScaleRotate(),\n",
    "    alb.Blur(),\n",
    "    alb.RandomGamma(),\n",
    "    alb.Sharpen(),\n",
    "    alb.GaussNoise(),\n",
    "    alb.CoarseDropout(16, 32, 32),\n",
    "    alb.CLAHE(),\n",
    "    alb.Normalize(mean=ImageData().image_net_mean, \n",
    "                  std=ImageData().image_net_std)])\n",
    "\n",
    "# Vor validation and testing, we do not want any augmentations\n",
    "# but we will still need the correct input size and image normalization\n",
    "val_transform = alb.Compose([\n",
    "    alb.Resize(im_size, im_size),\n",
    "    alb.Normalize(mean=ImageData().image_net_mean, \n",
    "                  std=ImageData().image_net_std)])"
   ]
  },
  {
   "cell_type": "code",
   "execution_count": 7,
   "id": "5edc6ffb-c54a-41ab-b899-20190b777ea8",
   "metadata": {},
   "outputs": [],
   "source": [
    "# Create the data sets from the data frame\n",
    "train_dataset = DatasetFromDF(data=train_df,\n",
    "                              file_col='box_file',\n",
    "                              label_col='cl',\n",
    "                              max_image_size=max_image_size,\n",
    "                              transform=train_transform,\n",
    "                              validate=True)\n",
    "\n",
    "val_dataset = DatasetFromDF(data=val_df,\n",
    "                            file_col='box_file',\n",
    "                            label_col='cl',\n",
    "                            max_image_size=max_image_size,\n",
    "                            transform=val_transform,\n",
    "                            validate=True)\n",
    "\n",
    "test_dataset = DatasetFromDF(data=test_df,\n",
    "                             file_col='box_file',\n",
    "                             label_col='cl',\n",
    "                             max_image_size=max_image_size,\n",
    "                             transform=val_transform,\n",
    "                             validate=True)"
   ]
  },
  {
   "cell_type": "markdown",
   "id": "edc85351-1c32-4eb6-b3dc-291c92bf2d56",
   "metadata": {},
   "source": [
    "### Load model from checkpoint ###"
   ]
  },
  {
   "cell_type": "code",
   "execution_count": 12,
   "id": "3d9b3e30-cc88-46e2-ba82-49112c2321fe",
   "metadata": {},
   "outputs": [
    {
     "name": "stderr",
     "output_type": "stream",
     "text": [
      "File extension is unexpected .ckpt.\n"
     ]
    },
    {
     "name": "stdout",
     "output_type": "stream",
     "text": [
      "File: .ckpt loaded.\n"
     ]
    },
    {
     "data": {
      "text/plain": [
       "torch.Size([16, 3, 224, 224])"
      ]
     },
     "metadata": {},
     "output_type": "display_data"
    },
    {
     "data": {
      "text/plain": [
       "torch.Size([16])"
      ]
     },
     "metadata": {},
     "output_type": "display_data"
    }
   ],
   "source": [
    "# We try the metrics with a trained model\n",
    "from dentexmodel.models.toothmodel_fancy import ToothModel\n",
    "link = 'https://dsets.s3.amazonaws.com/dentex/toothmodel1_50.ckpt'\n",
    "checkpoint_file = FileOP().download_from_url(url=link, download_dir=dentex_dir)\n",
    "model = ToothModel.load_from_checkpoint(checkpoint_file, map_location=device,\n",
    "                                        val_dataset=val_dataset,\n",
    "                                        test_dataset=test_dataset,\n",
    "                                        batch_size = 16,\n",
    "                                        num_classes = 4,\n",
    "                                        num_workers= 4)\n",
    "\n",
    "# Load a test batch\n",
    "dl = model.test_dataloader()\n",
    "test_image_batch, test_label_batch = next(iter(dl))\n",
    "display(test_image_batch.shape)\n",
    "display(test_label_batch.shape)\n",
    "\n",
    "# Forward - pass on the test batch\n",
    "pred = model(test_image_batch.cuda())"
   ]
  },
  {
   "cell_type": "markdown",
   "id": "ffa3b5e9-9bc8-4875-b473-512dfc7bb31c",
   "metadata": {},
   "source": [
    "### Train the fancy model with tensorboard logging ###"
   ]
  },
  {
   "cell_type": "code",
   "execution_count": 13,
   "id": "1943870a-1cc2-4cd3-9fd5-808e73b3f87b",
   "metadata": {},
   "outputs": [
    {
     "name": "stderr",
     "output_type": "stream",
     "text": [
      "Seed set to 234\n",
      "GPU available: True (cuda), used: True\n",
      "TPU available: False, using: 0 TPU cores\n",
      "IPU available: False, using: 0 IPUs\n",
      "HPU available: False, using: 0 HPUs\n"
     ]
    }
   ],
   "source": [
    "# Create the trainer object and train the model for a few epochs\n",
    "from lightning.pytorch.loggers import TensorBoardLogger\n",
    "\n",
    "model_name = 'fancy'\n",
    "model_version = 1\n",
    "max_epochs = 6\n",
    "check_val_every_n_epoch = 2\n",
    "checkpoint_every_n_epoch = 2\n",
    "\n",
    "log_dir = os.path.join(dentex_dir, 'log')\n",
    "Path(log_dir).mkdir(parents=True, exist_ok=True)\n",
    "checkpoint_dir = os.path.join(log_dir, model_name, f'version_{model_version}', 'checkpoints')\n",
    "\n",
    "logger = TensorBoardLogger(save_dir=log_dir,\n",
    "                           name=model_name,\n",
    "                           version=123)\n",
    "\n",
    "checkpoint_callback = ModelCheckpoint(\n",
    "    dirpath=checkpoint_dir,\n",
    "    filename='{epoch}',\n",
    "    save_last=True,\n",
    "    every_n_epochs=checkpoint_every_n_epoch,\n",
    "    save_on_train_epoch_end=True,\n",
    "    save_top_k=-1)\n",
    "\n",
    "seed_everything(234, workers=True)\n",
    "tr = Trainer(max_epochs=max_epochs,\n",
    "             deterministic=True,\n",
    "             accelerator='gpu',\n",
    "             default_root_dir=log_dir,\n",
    "             callbacks=[checkpoint_callback],\n",
    "             logger=logger,\n",
    "             check_val_every_n_epoch=check_val_every_n_epoch)"
   ]
  },
  {
   "cell_type": "code",
   "execution_count": 15,
   "id": "be54500d-b0d1-4aa2-9314-8af83acdf8ca",
   "metadata": {},
   "outputs": [
    {
     "name": "stderr",
     "output_type": "stream",
     "text": [
      "2024-01-12 12:22:39.957970: I tensorflow/core/util/port.cc:113] oneDNN custom operations are on. You may see slightly different numerical results due to floating-point round-off errors from different computation orders. To turn them off, set the environment variable `TF_ENABLE_ONEDNN_OPTS=0`.\n",
      "2024-01-12 12:22:39.978694: E external/local_xla/xla/stream_executor/cuda/cuda_dnn.cc:9261] Unable to register cuDNN factory: Attempting to register factory for plugin cuDNN when one has already been registered\n",
      "2024-01-12 12:22:39.978713: E external/local_xla/xla/stream_executor/cuda/cuda_fft.cc:607] Unable to register cuFFT factory: Attempting to register factory for plugin cuFFT when one has already been registered\n",
      "2024-01-12 12:22:39.979258: E external/local_xla/xla/stream_executor/cuda/cuda_blas.cc:1515] Unable to register cuBLAS factory: Attempting to register factory for plugin cuBLAS when one has already been registered\n",
      "2024-01-12 12:22:39.983386: I tensorflow/core/platform/cpu_feature_guard.cc:182] This TensorFlow binary is optimized to use available CPU instructions in performance-critical operations.\n",
      "To enable the following instructions: AVX2 AVX_VNNI FMA, in other operations, rebuild TensorFlow with the appropriate compiler flags.\n",
      "2024-01-12 12:22:40.536794: W tensorflow/compiler/tf2tensorrt/utils/py_utils.cc:38] TF-TRT Warning: Could not find TensorRT\n",
      "LOCAL_RANK: 0 - CUDA_VISIBLE_DEVICES: [0]\n",
      "\n",
      "  | Name      | Type             | Params\n",
      "-----------------------------------------------\n",
      "0 | model     | ResNet           | 24.6 M\n",
      "1 | criterion | CrossEntropyLoss | 0     \n",
      "2 | metrics   | ModuleDict       | 0     \n",
      "-----------------------------------------------\n",
      "24.6 M    Trainable params\n",
      "0         Non-trainable params\n",
      "24.6 M    Total params\n",
      "98.237    Total estimated model params size (MB)\n"
     ]
    },
    {
     "data": {
      "application/vnd.jupyter.widget-view+json": {
       "model_id": "",
       "version_major": 2,
       "version_minor": 0
      },
      "text/plain": [
       "Sanity Checking: |                                                                                            …"
      ]
     },
     "metadata": {},
     "output_type": "display_data"
    },
    {
     "name": "stderr",
     "output_type": "stream",
     "text": [
      "/home/andreas/.local/share/virtualenvs/dentexmodel-XQ6rvmiM/lib/python3.10/site-packages/torchmetrics/utilities/prints.py:43: TorchMetricsUserWarning: You are trying to use a metric in deterministic mode on GPU that uses `torch.cumsum`, which is currently not supported. The tensor will be copied to the CPU memory to compute it and then copied back to GPU. Expect some slowdowns.\n",
      "  warnings.warn(*args, **kwargs)  # noqa: B028\n"
     ]
    },
    {
     "data": {
      "application/vnd.jupyter.widget-view+json": {
       "model_id": "cf6c9f061a2e4c518d0b0010e269c2d3",
       "version_major": 2,
       "version_minor": 0
      },
      "text/plain": [
       "Training: |                                                                                                   …"
      ]
     },
     "metadata": {},
     "output_type": "display_data"
    },
    {
     "name": "stderr",
     "output_type": "stream",
     "text": [
      "/home/andreas/.local/share/virtualenvs/dentexmodel-XQ6rvmiM/lib/python3.10/site-packages/torchmetrics/utilities/prints.py:43: UserWarning: No positive samples in targets, true positive value should be meaningless. Returning zero tensor in true positive score\n",
      "  warnings.warn(*args, **kwargs)  # noqa: B028\n"
     ]
    },
    {
     "data": {
      "application/vnd.jupyter.widget-view+json": {
       "model_id": "",
       "version_major": 2,
       "version_minor": 0
      },
      "text/plain": [
       "Validation: |                                                                                                 …"
      ]
     },
     "metadata": {},
     "output_type": "display_data"
    },
    {
     "data": {
      "application/vnd.jupyter.widget-view+json": {
       "model_id": "",
       "version_major": 2,
       "version_minor": 0
      },
      "text/plain": [
       "Validation: |                                                                                                 …"
      ]
     },
     "metadata": {},
     "output_type": "display_data"
    },
    {
     "name": "stderr",
     "output_type": "stream",
     "text": [
      "/home/andreas/.local/share/virtualenvs/dentexmodel-XQ6rvmiM/lib/python3.10/site-packages/torchmetrics/utilities/prints.py:43: UserWarning: No negative samples in targets, false positive value should be meaningless. Returning zero tensor in false positive score\n",
      "  warnings.warn(*args, **kwargs)  # noqa: B028\n"
     ]
    },
    {
     "data": {
      "application/vnd.jupyter.widget-view+json": {
       "model_id": "",
       "version_major": 2,
       "version_minor": 0
      },
      "text/plain": [
       "Validation: |                                                                                                 …"
      ]
     },
     "metadata": {},
     "output_type": "display_data"
    },
    {
     "name": "stderr",
     "output_type": "stream",
     "text": [
      "`Trainer.fit` stopped: `max_epochs=6` reached.\n"
     ]
    }
   ],
   "source": [
    "# Run the training\n",
    "tr.fit(model)"
   ]
  }
 ],
 "metadata": {
  "kernelspec": {
   "display_name": "Python 3 (ipykernel)",
   "language": "python",
   "name": "python3"
  },
  "language_info": {
   "codemirror_mode": {
    "name": "ipython",
    "version": 3
   },
   "file_extension": ".py",
   "mimetype": "text/x-python",
   "name": "python",
   "nbconvert_exporter": "python",
   "pygments_lexer": "ipython3",
   "version": "3.10.11"
  }
 },
 "nbformat": 4,
 "nbformat_minor": 5
}
