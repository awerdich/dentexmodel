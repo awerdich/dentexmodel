{
 "cells": [
  {
   "cell_type": "markdown",
   "id": "ebc52caa-e5ff-42ad-9bb6-84891f453249",
   "metadata": {},
   "source": [
    "## Notebook 6: The Lightning Model Class ##\n",
    "This trains a ResNet 50 model with pretrained weights. The model \"toothmodel_basic\" contains the bare minimum code to train an image classification model. No metrics or checkpoints are saved in this one."
   ]
  },
  {
   "cell_type": "code",
   "execution_count": 1,
   "id": "146bbe69-a3c4-430d-a5f8-74fa54188d44",
   "metadata": {},
   "outputs": [
    {
     "data": {
      "text/html": [
       "<style>.container { width:100% !important; }</style>"
      ],
      "text/plain": [
       "<IPython.core.display.HTML object>"
      ]
     },
     "metadata": {},
     "output_type": "display_data"
    },
    {
     "name": "stdout",
     "output_type": "stream",
     "text": [
      "dentexmodel package version:  0.0.post1.dev36+gb44e647.d20240101\n"
     ]
    }
   ],
   "source": [
    "# Imports\n",
    "import os\n",
    "from pathlib import Path\n",
    "import numpy as np\n",
    "import pandas as pd\n",
    "import cv2\n",
    "import glob\n",
    "\n",
    "# Matplotlib for plotting\n",
    "from matplotlib import pyplot as plt\n",
    "from matplotlib.pyplot import cm\n",
    "\n",
    "# PyTorch packages\n",
    "import torch\n",
    "import torch.nn as nn\n",
    "import lightning.pytorch as pl\n",
    "from lightning.pytorch import Trainer\n",
    "\n",
    "# Albumentations library\n",
    "import albumentations as alb\n",
    "\n",
    "# Appearance of the Notebook\n",
    "from IPython.display import display, HTML\n",
    "display(HTML(\"<style>.container { width:100% !important; }</style>\"))\n",
    "np.set_printoptions(linewidth=110)\n",
    "pd.set_option('display.max_rows', 500)\n",
    "pd.set_option('display.max_columns', 100)\n",
    "pd.set_option('display.width', 1000)\n",
    "\n",
    "# Import this module with autoreload\n",
    "%load_ext autoreload\n",
    "%autoreload 2\n",
    "import dentexmodel as dm\n",
    "from dentexmodel.imageproc import ImageData\n",
    "from dentexmodel.torchdataset import DatasetFromDF, load_and_process_image\n",
    "print(f'dentexmodel package version:  {dm.__version__}')"
   ]
  },
  {
   "cell_type": "code",
   "execution_count": 3,
   "id": "fb742ac6-b8be-4342-97cc-b91acf1e3805",
   "metadata": {},
   "outputs": [],
   "source": [
    "# Path settings \n",
    "dentex_dir = os.path.join(os.environ['HOME'], 'data', 'dentex')\n",
    "data_dir = os.path.join(dentex_dir, 'dentex_disease')\n",
    "image_dir = os.path.join(data_dir, 'quadrant-enumeration-disease', 'xrays', 'crop')\n",
    "data_file_name = 'dentex_disease_datasplit.parquet'\n",
    "data_file = os.path.join(dentex_dir, data_file_name)"
   ]
  },
  {
   "cell_type": "code",
   "execution_count": 4,
   "id": "bac1fb7a-5c4b-48e9-b964-77bca51834b3",
   "metadata": {},
   "outputs": [
    {
     "name": "stdout",
     "output_type": "stream",
     "text": [
      "PyTorch version:              2.1.2+cu121\n",
      "PyTorch Lightning version:    2.1.3\n",
      "True\n",
      "Number of GPUs found:  1\n",
      "Current device ID:     0\n",
      "GPU device name:       NVIDIA GeForce RTX 3060 Laptop GPU\n",
      "CUDNN version:         8902\n"
     ]
    }
   ],
   "source": [
    "# %% Package and GPU checks\n",
    "print(f'PyTorch version:              {torch.__version__}')\n",
    "print(f'PyTorch Lightning version:    {pl.__version__}')\n",
    "device = torch.device(\"cuda:0\") if torch.cuda.is_available() else torch.device(\"cpu\")\n",
    "print(torch.cuda.is_available())\n",
    "print(f'Number of GPUs found:  {torch.cuda.device_count()}')\n",
    "print(f'Current device ID:     {torch.cuda.current_device()}')\n",
    "print(f'GPU device name:       {torch.cuda.get_device_name(0)}')\n",
    "print(f'CUDNN version:         {torch.backends.cudnn.version()}')\n",
    "torch.set_float32_matmul_precision(precision='high')"
   ]
  },
  {
   "cell_type": "markdown",
   "id": "d7358557-53d8-4d69-b694-55c406c0f47f",
   "metadata": {},
   "source": [
    "### Create PyTorch datasets from data frame ###"
   ]
  },
  {
   "cell_type": "code",
   "execution_count": 5,
   "id": "64692d68-33f9-4a65-a937-6fa485594f55",
   "metadata": {},
   "outputs": [
    {
     "data": {
      "text/plain": [
       "Caries               0\n",
       "Deep Caries          1\n",
       "Impacted             2\n",
       "Periapical Lesion    3\n",
       "Name: 0, dtype: int64"
      ]
     },
     "metadata": {},
     "output_type": "display_data"
    }
   ],
   "source": [
    "data_df = pd.read_parquet(data_file)\n",
    "# Convert class names to labels\n",
    "cl_names = sorted(list(data_df['label'].unique()))\n",
    "# Let's assign number to the classes\n",
    "label_dict = dict(zip(cl_names, range(len(cl_names))))\n",
    "cl_dict = dict(zip(label_dict.values(), label_dict.keys()))\n",
    "\n",
    "# Add the class labels to the data frame\n",
    "seed = np.random.seed(123)\n",
    "data_df = data_df.\\\n",
    "                assign(cl=data_df['label'].apply(lambda l: label_dict.get(l))).\\\n",
    "                sample(frac=1, random_state=seed).\\\n",
    "                reset_index(drop=True)\n",
    "\n",
    "# Show the class labels\n",
    "display(pd.DataFrame(label_dict, index=[0]).iloc[0])\n",
    "\n",
    "# Save the data frame with the class labels\n",
    "data_file_name_cl = 'dentex_disease_datasplit_cl.parquet'\n",
    "data_file = os.path.join(dentex_dir, data_file_name_cl)\n",
    "data_df.to_parquet(data_file)"
   ]
  },
  {
   "cell_type": "code",
   "execution_count": 6,
   "id": "c0af688f-9c27-4227-8374-06643a7c49a5",
   "metadata": {},
   "outputs": [
    {
     "name": "stdout",
     "output_type": "stream",
     "text": [
      "Found 3349 samples in the training set.\n",
      "Found 60 samples in the validation set.\n",
      "Found 120 samples in the test set.\n",
      "\n"
     ]
    }
   ],
   "source": [
    "# Select the samples for training, validation and testing from our data frame\n",
    "train_df = data_df.loc[data_df['dataset']=='train']\n",
    "val_df = data_df.loc[data_df['dataset']=='val']\n",
    "test_df = data_df.loc[data_df['dataset']=='test']\n",
    "\n",
    "train_samples = sorted(list(train_df['box_name'].unique()))\n",
    "print(f'Found {len(train_samples)} samples in the training set.')\n",
    "val_samples = sorted(list(val_df['box_name'].unique()))\n",
    "print(f'Found {len(val_samples)} samples in the validation set.')\n",
    "test_samples = sorted(list(test_df['box_name'].unique()))\n",
    "print(f'Found {len(test_samples)} samples in the test set.')\n",
    "print()"
   ]
  },
  {
   "cell_type": "code",
   "execution_count": 7,
   "id": "b366254d-a33b-4779-855a-48242cf1f6cc",
   "metadata": {},
   "outputs": [],
   "source": [
    "# Augmentations\n",
    "# Image augmentations is part of the PyTorch dataset\n",
    "\n",
    "# The output of this transformation must match the required input size for the model\n",
    "max_image_size = 550\n",
    "im_size = 224\n",
    "\n",
    "# Definition of the image augmentations for the training set\n",
    "train_transform = alb.Compose([\n",
    "    alb.Resize(im_size + 32, im_size + 32),\n",
    "    alb.RandomCrop(im_size, im_size),\n",
    "    alb.HorizontalFlip(),\n",
    "    alb.ShiftScaleRotate(),\n",
    "    alb.Blur(),\n",
    "    alb.RandomGamma(),\n",
    "    alb.Sharpen(),\n",
    "    alb.GaussNoise(),\n",
    "    alb.CoarseDropout(16, 32, 32),\n",
    "    alb.CLAHE(),\n",
    "    alb.Normalize(mean=ImageData().image_net_mean, \n",
    "                  std=ImageData().image_net_std)])\n",
    "\n",
    "# Vor validation and testing, we do not want any augmentations\n",
    "# but we will still need the correct input size and image normalization\n",
    "val_transform = alb.Compose([\n",
    "    alb.Resize(im_size, im_size),\n",
    "    alb.Normalize(mean=ImageData().image_net_mean, \n",
    "                  std=ImageData().image_net_std)])"
   ]
  },
  {
   "cell_type": "code",
   "execution_count": 8,
   "id": "5edc6ffb-c54a-41ab-b899-20190b777ea8",
   "metadata": {},
   "outputs": [],
   "source": [
    "# Create the data sets from the data frame\n",
    "train_dataset = DatasetFromDF(data=train_df,\n",
    "                              file_col='box_file',\n",
    "                              label_col='cl',\n",
    "                              max_image_size=max_image_size,\n",
    "                              transform=train_transform,\n",
    "                              validate=True)\n",
    "\n",
    "test_dataset = DatasetFromDF(data=test_df,\n",
    "                             file_col='box_file',\n",
    "                             label_col='cl',\n",
    "                             max_image_size=max_image_size,\n",
    "                             transform=val_transform,\n",
    "                             validate=True)"
   ]
  },
  {
   "cell_type": "markdown",
   "id": "1a2bc348-585b-4b12-a0ca-5c419ce4fb87",
   "metadata": {},
   "source": [
    "### The image model with pre-trained weights ###\n",
    "The torchvision.models subpackage contains definitions of models for addressing different tasks, including: image classification, pixelwise semantic segmentation, object detection, instance segmentation, person keypoint detection, video classification, and optical flow.\n",
    "\n",
    "TorchVision offers pre-trained weights for every provided architecture, using the PyTorch torch.hub. Instancing a pre-trained model will download its weights to a cache directory. This directory can be set using the TORCH_HOME environment variable. See torch.hub.load_state_dict_from_url() for details.\n",
    "\n",
    "A list of all models is here:\n",
    "https://pytorch.org/vision/stable/models.html#classification\n",
    "\n",
    "The ResNet50 model:\n",
    "https://pytorch.org/vision/stable/models/generated/torchvision.models.resnet50.html#torchvision.models.resnet50"
   ]
  },
  {
   "cell_type": "code",
   "execution_count": 9,
   "id": "c90791a4-ac58-4405-9eb5-70cfbc2c60d6",
   "metadata": {},
   "outputs": [],
   "source": [
    "from torchvision.models import resnet50, ResNet50_Weights\n",
    "\n",
    "class ResNet50Model:\n",
    "    \"\"\" This is the ResNet50 model from torchvision.models \"\"\"\n",
    "    def __init__(self, n_outputs=4):\n",
    "        self.n_outputs = n_outputs\n",
    "\n",
    "    def create_model(self):\n",
    "        model = resnet50(weights=ResNet50_Weights.DEFAULT)\n",
    "        model.fc = nn.Sequential(\n",
    "            nn.Linear(in_features=model.fc.in_features, out_features=512),\n",
    "            nn.ReLU(),\n",
    "            nn.Linear(in_features=512, out_features=self.n_outputs)\n",
    "        )\n",
    "        return model"
   ]
  },
  {
   "cell_type": "code",
   "execution_count": 10,
   "id": "3d9b3e30-cc88-46e2-ba82-49112c2321fe",
   "metadata": {},
   "outputs": [],
   "source": [
    "# toothmodel1 is a minimal Lightning model to train\n",
    "# there is no trainig or validation metrics, just the bar minimum\n",
    "from dentexmodel.models.toothmodel_basic import ToothModel\n",
    "model = ToothModel(train_dataset=train_dataset,\n",
    "                   batch_size=40,\n",
    "                   num_workers=8,\n",
    "                   model=ResNet50Model(n_outputs=4).create_model())"
   ]
  },
  {
   "cell_type": "markdown",
   "id": "b2a8a5a2-2939-4c72-a885-a89db827a722",
   "metadata": {},
   "source": [
    "### Test the model output ###"
   ]
  },
  {
   "cell_type": "code",
   "execution_count": 13,
   "id": "e9d79d4f-a6c9-4eca-89c0-c60b0d6a5df9",
   "metadata": {},
   "outputs": [
    {
     "name": "stdout",
     "output_type": "stream",
     "text": [
      "(40, 3, 224, 224)\n",
      "(40,)\n"
     ]
    }
   ],
   "source": [
    "# Run one batch of images through the model\n",
    "dl = model.train_dataloader()\n",
    "image_batch, label_batch = next(iter(dl))\n",
    "print(image_batch.numpy().shape)\n",
    "print(label_batch.numpy().shape)"
   ]
  },
  {
   "cell_type": "markdown",
   "id": "ffa3b5e9-9bc8-4875-b473-512dfc7bb31c",
   "metadata": {},
   "source": [
    "### Train the model ###"
   ]
  },
  {
   "cell_type": "code",
   "execution_count": 11,
   "id": "4855837b-aa31-4097-945b-e7373e975e74",
   "metadata": {},
   "outputs": [],
   "source": [
    "# Create a checkpoint directory so that we can save the latest model\n",
    "checkpoint_dir = os.path.join(dentex_dir, 'checkpoints_test')\n",
    "Path(checkpoint_dir).mkdir(parents=True, exist_ok=True) "
   ]
  },
  {
   "cell_type": "code",
   "execution_count": 12,
   "id": "1943870a-1cc2-4cd3-9fd5-808e73b3f87b",
   "metadata": {},
   "outputs": [
    {
     "name": "stderr",
     "output_type": "stream",
     "text": [
      "GPU available: True (cuda), used: True\n",
      "TPU available: False, using: 0 TPU cores\n",
      "IPU available: False, using: 0 IPUs\n",
      "HPU available: False, using: 0 HPUs\n",
      "Missing logger folder: /home/andreas/data/dentex/checkpoints_test/lightning_logs\n",
      "2024-01-10 10:38:16.243869: I tensorflow/core/util/port.cc:113] oneDNN custom operations are on. You may see slightly different numerical results due to floating-point round-off errors from different computation orders. To turn them off, set the environment variable `TF_ENABLE_ONEDNN_OPTS=0`.\n",
      "2024-01-10 10:38:16.576969: E external/local_xla/xla/stream_executor/cuda/cuda_dnn.cc:9261] Unable to register cuDNN factory: Attempting to register factory for plugin cuDNN when one has already been registered\n",
      "2024-01-10 10:38:16.577067: E external/local_xla/xla/stream_executor/cuda/cuda_fft.cc:607] Unable to register cuFFT factory: Attempting to register factory for plugin cuFFT when one has already been registered\n",
      "2024-01-10 10:38:16.632076: E external/local_xla/xla/stream_executor/cuda/cuda_blas.cc:1515] Unable to register cuBLAS factory: Attempting to register factory for plugin cuBLAS when one has already been registered\n",
      "2024-01-10 10:38:16.747777: I tensorflow/core/platform/cpu_feature_guard.cc:182] This TensorFlow binary is optimized to use available CPU instructions in performance-critical operations.\n",
      "To enable the following instructions: AVX2 AVX_VNNI FMA, in other operations, rebuild TensorFlow with the appropriate compiler flags.\n",
      "2024-01-10 10:38:17.480419: W tensorflow/compiler/tf2tensorrt/utils/py_utils.cc:38] TF-TRT Warning: Could not find TensorRT\n",
      "LOCAL_RANK: 0 - CUDA_VISIBLE_DEVICES: [0]\n",
      "\n",
      "  | Name      | Type             | Params\n",
      "-----------------------------------------------\n",
      "0 | model     | ResNet           | 24.6 M\n",
      "1 | criterion | CrossEntropyLoss | 0     \n",
      "-----------------------------------------------\n",
      "24.6 M    Trainable params\n",
      "0         Non-trainable params\n",
      "24.6 M    Total params\n",
      "98.237    Total estimated model params size (MB)\n"
     ]
    },
    {
     "data": {
      "application/vnd.jupyter.widget-view+json": {
       "model_id": "6e295b586f454e6884dd326393e22a25",
       "version_major": 2,
       "version_minor": 0
      },
      "text/plain": [
       "Training: |                                                                                                   …"
      ]
     },
     "metadata": {},
     "output_type": "display_data"
    },
    {
     "name": "stderr",
     "output_type": "stream",
     "text": [
      "`Trainer.fit` stopped: `max_epochs=10` reached.\n"
     ]
    }
   ],
   "source": [
    "# Create the trainer object and train the model for 20 epochs\n",
    "max_epochs = 10\n",
    "tr = Trainer(max_epochs=max_epochs,\n",
    "             deterministic=True,\n",
    "             accelerator='gpu',\n",
    "             default_root_dir=checkpoint_dir)\n",
    "# Run the training\n",
    "tr.fit(model)"
   ]
  },
  {
   "cell_type": "code",
   "execution_count": 14,
   "id": "aaa62f38-d440-4f2f-af58-db829f45b011",
   "metadata": {},
   "outputs": [
    {
     "name": "stdout",
     "output_type": "stream",
     "text": [
      "(40, 3, 224, 224)\n",
      "(40,)\n",
      "\n"
     ]
    },
    {
     "data": {
      "text/plain": [
       "tensor([[2.0705e-02, 1.0745e-01, 8.7150e-01, 3.4811e-04],\n",
       "        [9.0229e-01, 9.2097e-02, 1.3425e-03, 4.2745e-03],\n",
       "        [1.5695e-01, 2.8329e-01, 5.5127e-01, 8.4898e-03],\n",
       "        [6.1699e-01, 3.2846e-01, 6.7820e-03, 4.7772e-02],\n",
       "        [9.4726e-01, 3.0999e-02, 2.1139e-02, 6.0494e-04],\n",
       "        [8.4838e-01, 1.2997e-01, 2.0009e-02, 1.6403e-03],\n",
       "        [9.1966e-01, 2.1954e-02, 1.9630e-05, 5.8362e-02],\n",
       "        [9.4233e-01, 5.0903e-02, 5.6966e-03, 1.0698e-03],\n",
       "        [1.7388e-01, 4.4433e-02, 7.8006e-01, 1.6231e-03],\n",
       "        [7.2624e-01, 8.4676e-02, 1.3869e-04, 1.8895e-01],\n",
       "        [1.2730e-03, 2.9319e-03, 9.9579e-01, 1.8928e-06],\n",
       "        [8.2787e-01, 1.0621e-01, 2.4838e-04, 6.5669e-02],\n",
       "        [8.8894e-01, 6.9119e-02, 1.5370e-04, 4.1792e-02],\n",
       "        [3.2610e-02, 8.6252e-03, 9.5866e-01, 1.0455e-04],\n",
       "        [2.8992e-02, 5.5341e-02, 9.1533e-01, 3.3325e-04],\n",
       "        [9.6305e-01, 3.4990e-02, 3.1038e-04, 1.6546e-03],\n",
       "        [9.5431e-01, 4.0576e-02, 5.0493e-04, 4.6130e-03],\n",
       "        [5.1969e-01, 3.1625e-01, 4.4080e-04, 1.6361e-01],\n",
       "        [8.0515e-01, 1.6426e-01, 1.1055e-03, 2.9486e-02],\n",
       "        [4.9996e-01, 1.5201e-01, 3.4022e-01, 7.8144e-03],\n",
       "        [9.4649e-01, 5.1301e-02, 6.4339e-04, 1.5661e-03],\n",
       "        [8.5308e-01, 1.0549e-01, 9.2577e-05, 4.1328e-02],\n",
       "        [8.5843e-01, 6.5199e-02, 7.4911e-02, 1.4592e-03],\n",
       "        [9.3229e-01, 6.2222e-02, 1.5488e-04, 5.3305e-03],\n",
       "        [9.7286e-01, 2.6136e-02, 1.5355e-04, 8.4807e-04],\n",
       "        [7.3917e-01, 2.3794e-01, 6.8724e-03, 1.6018e-02],\n",
       "        [6.2945e-01, 2.1975e-01, 1.8657e-03, 1.4893e-01],\n",
       "        [9.4719e-01, 4.6679e-02, 3.0481e-04, 5.8310e-03],\n",
       "        [7.6605e-01, 1.4619e-01, 7.8673e-02, 9.0815e-03],\n",
       "        [7.4280e-01, 1.0331e-01, 1.4224e-04, 1.5375e-01],\n",
       "        [9.0262e-01, 8.6416e-02, 1.8350e-04, 1.0785e-02],\n",
       "        [9.6771e-01, 2.9528e-02, 2.2744e-03, 4.8822e-04],\n",
       "        [9.5699e-01, 4.2318e-02, 3.7178e-04, 3.1747e-04],\n",
       "        [6.6558e-01, 2.3074e-01, 1.7722e-02, 8.5962e-02],\n",
       "        [8.6472e-01, 1.0889e-01, 1.8054e-03, 2.4582e-02],\n",
       "        [8.0116e-01, 1.7869e-01, 3.2733e-03, 1.6879e-02],\n",
       "        [1.3576e-02, 5.4857e-02, 9.3136e-01, 2.0647e-04],\n",
       "        [1.8585e-02, 1.6962e-02, 9.6405e-01, 4.0180e-04],\n",
       "        [6.2595e-01, 3.0676e-01, 2.7079e-02, 4.0218e-02],\n",
       "        [9.4209e-01, 5.4224e-02, 2.5585e-03, 1.1236e-03]],\n",
       "       grad_fn=<SoftmaxBackward0>)"
      ]
     },
     "metadata": {},
     "output_type": "display_data"
    }
   ],
   "source": [
    "dl = model.train_dataloader()\n",
    "image_batch, label_batch = next(iter(dl))\n",
    "print(image_batch.numpy().shape)\n",
    "print(label_batch.numpy().shape)\n",
    "print()\n",
    "sm = nn.Softmax(dim=1)\n",
    "display(sm(model(image_batch)))"
   ]
  },
  {
   "cell_type": "code",
   "execution_count": 15,
   "id": "77e0558b-62c9-4d7b-90be-385155d0e303",
   "metadata": {},
   "outputs": [
    {
     "name": "stdout",
     "output_type": "stream",
     "text": [
      "/home/andreas/data/dentex/checkpoints/lightning_logs/version_0/checkpoints\n",
      "/home/andreas/data/dentex/checkpoints/lightning_logs/version_0/checkpoints/toothmodel1_50.ckpt\n"
     ]
    }
   ],
   "source": [
    "# Load the model from the checkpoint\n",
    "saved_checkpoint_dir = os.path.join(dentex_dir, 'checkpoints')\n",
    "model_checkpoint_dir = os.path.join(saved_checkpoint_dir, 'lightning_logs', \n",
    "                                    'version_0', 'checkpoints')\n",
    "checkpoint_file = glob.glob(os.path.join(model_checkpoint_dir, 'tooth*'))[0]\n",
    "print(model_checkpoint_dir)\n",
    "print(checkpoint_file)\n",
    "# Load the model from the latest checkpoint\n",
    "loaded_model = ToothModel.load_from_checkpoint(checkpoint_file)"
   ]
  },
  {
   "cell_type": "code",
   "execution_count": 16,
   "id": "fb1fd5b3-b251-43fe-b676-0222fa21e628",
   "metadata": {},
   "outputs": [
    {
     "data": {
      "text/plain": [
       "tensor([[2.0705e-02, 1.0745e-01, 8.7150e-01, 3.4811e-04],\n",
       "        [9.0229e-01, 9.2097e-02, 1.3425e-03, 4.2745e-03],\n",
       "        [1.5695e-01, 2.8329e-01, 5.5127e-01, 8.4898e-03],\n",
       "        [6.1699e-01, 3.2846e-01, 6.7820e-03, 4.7772e-02],\n",
       "        [9.4726e-01, 3.0999e-02, 2.1139e-02, 6.0494e-04]],\n",
       "       grad_fn=<SliceBackward0>)"
      ]
     },
     "metadata": {},
     "output_type": "display_data"
    },
    {
     "name": "stdout",
     "output_type": "stream",
     "text": [
      "\n"
     ]
    },
    {
     "data": {
      "text/plain": [
       "tensor([[1.6141e-02, 7.4079e-02, 9.0886e-01, 9.2477e-04],\n",
       "        [9.8026e-01, 1.9162e-02, 2.4551e-04, 3.3442e-04],\n",
       "        [1.8351e-03, 9.5106e-01, 4.3257e-02, 3.8455e-03],\n",
       "        [7.2659e-01, 2.5808e-01, 8.9600e-04, 1.4430e-02],\n",
       "        [7.0794e-01, 1.9460e-01, 9.3265e-02, 4.1874e-03]], device='cuda:0',\n",
       "       grad_fn=<SliceBackward0>)"
      ]
     },
     "metadata": {},
     "output_type": "display_data"
    },
    {
     "name": "stdout",
     "output_type": "stream",
     "text": [
      "\n"
     ]
    },
    {
     "data": {
      "text/plain": [
       "tensor([[0.2576, 0.2440, 0.2427, 0.2557],\n",
       "        [0.2232, 0.2595, 0.2699, 0.2474],\n",
       "        [0.2302, 0.2533, 0.2517, 0.2649],\n",
       "        [0.2393, 0.2618, 0.2444, 0.2544],\n",
       "        [0.2260, 0.2488, 0.2595, 0.2657]], grad_fn=<SliceBackward0>)"
      ]
     },
     "metadata": {},
     "output_type": "display_data"
    }
   ],
   "source": [
    "# Now, we can compare the outputs for the trained model\n",
    "display(sm(model(image_batch))[:5,:])\n",
    "print()\n",
    "# With the outputs for the loaded model\n",
    "display(sm(loaded_model(image_batch.cuda()))[:5,:])\n",
    "print()\n",
    "# OK, and now we compare this with an untrained new model\n",
    "new_model = ToothModel(train_dataset=train_dataset,\n",
    "                       batch_size=4,\n",
    "                       num_workers=1,\n",
    "                       model=ResNet50Model(n_outputs=4).create_model())\n",
    "display(sm(new_model(image_batch))[:5,:])"
   ]
  },
  {
   "cell_type": "code",
   "execution_count": 26,
   "id": "47509f4f-b758-4ba0-990f-dc964ade27cb",
   "metadata": {},
   "outputs": [],
   "source": [
    "# Link to the ckeckpoint\n",
    "link = 'https://dsets.s3.amazonaws.com/dentex/toothmodel1_50.ckpt'"
   ]
  }
 ],
 "metadata": {
  "kernelspec": {
   "display_name": "Python 3 (ipykernel)",
   "language": "python",
   "name": "python3"
  },
  "language_info": {
   "codemirror_mode": {
    "name": "ipython",
    "version": 3
   },
   "file_extension": ".py",
   "mimetype": "text/x-python",
   "name": "python",
   "nbconvert_exporter": "python",
   "pygments_lexer": "ipython3",
   "version": "3.10.11"
  }
 },
 "nbformat": 4,
 "nbformat_minor": 5
}
